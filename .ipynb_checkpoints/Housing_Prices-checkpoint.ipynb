{
 "cells": [
  {
   "cell_type": "markdown",
   "id": "92dae533",
   "metadata": {},
   "source": [
    "# SheCodeAfrica Advanced Machine Learning Project\n",
    "\n",
    "## Prediction of Rent Prices for Houses in Nigeria\n",
    "\n",
    "The aim of this project is to\n",
    "- Extract data from a Nigerian property website(Site used was propertypro.ng)\n",
    "- Clean, Preprocess and Analyse the data extracted\n",
    "- Build a machine learning model that predicts house rent price based on some details specifically location, price, number of rooms and bathrooms\n",
    "- Deploy to a web app using flask"
   ]
  },
  {
   "cell_type": "markdown",
   "id": "64baaf34",
   "metadata": {},
   "source": [
    "## Web Scraping"
   ]
  },
  {
   "cell_type": "markdown",
   "id": "b58db08e",
   "metadata": {},
   "source": [
    "importing the needed libraries"
   ]
  },
  {
   "cell_type": "code",
   "execution_count": 2,
   "id": "2d96b12e",
   "metadata": {},
   "outputs": [],
   "source": [
    "from selenium import webdriver\n",
    "from bs4 import BeautifulSoup as bs\n",
    "import pandas as pd\n",
    "import numpy as np\n",
    "import seaborn as sns\n",
    "import matplotlib.pyplot as plt\n",
    "import requests"
   ]
  },
  {
   "cell_type": "code",
   "execution_count": 2,
   "id": "8f870c54",
   "metadata": {
    "scrolled": true
   },
   "outputs": [
    {
     "name": "stderr",
     "output_type": "stream",
     "text": [
      "C:\\Users\\PC\\AppData\\Local\\Temp/ipykernel_24972/3246509272.py:1: DeprecationWarning: executable_path has been deprecated, please pass in a Service object\n",
      "  driver=webdriver.Chrome('C:/User/PC/Downloads/chromedriver_win32.exe')\n"
     ]
    }
   ],
   "source": [
    "#Creating a driver\n",
    "driver=webdriver.Chrome('C:/User/PC/Downloads/chromedriver_win32.exe')"
   ]
  },
  {
   "cell_type": "markdown",
   "id": "4b450974",
   "metadata": {},
   "source": [
    "There are multiple pages, about 370 so I created a while loop to make it easier extract data from all 370 at once"
   ]
  },
  {
   "cell_type": "code",
   "execution_count": 2,
   "id": "9a7b3407",
   "metadata": {
    "collapsed": true
   },
   "outputs": [
    {
     "ename": "NameError",
     "evalue": "name 'driver' is not defined",
     "output_type": "error",
     "traceback": [
      "\u001b[1;31m---------------------------------------------------------------------------\u001b[0m",
      "\u001b[1;31mNameError\u001b[0m                                 Traceback (most recent call last)",
      "\u001b[1;32m~\\AppData\\Local\\Temp/ipykernel_24732/1530365674.py\u001b[0m in \u001b[0;36m<module>\u001b[1;34m\u001b[0m\n\u001b[0;32m      2\u001b[0m \u001b[1;32mwhile\u001b[0m \u001b[0mpage\u001b[0m \u001b[1;33m!=\u001b[0m \u001b[1;36m370\u001b[0m\u001b[1;33m:\u001b[0m\u001b[1;33m\u001b[0m\u001b[1;33m\u001b[0m\u001b[0m\n\u001b[0;32m      3\u001b[0m     \u001b[0murl\u001b[0m \u001b[1;33m=\u001b[0m \u001b[1;34m'https://www.propertypro.ng/property-for-rent/house/?search=&auto=&bedroom=&min_price=&max_price=&page={page}'\u001b[0m\u001b[1;33m\u001b[0m\u001b[1;33m\u001b[0m\u001b[0m\n\u001b[1;32m----> 4\u001b[1;33m     \u001b[0mdriver\u001b[0m\u001b[1;33m.\u001b[0m\u001b[0mget\u001b[0m\u001b[1;33m(\u001b[0m\u001b[0murl\u001b[0m\u001b[1;33m)\u001b[0m\u001b[1;33m\u001b[0m\u001b[1;33m\u001b[0m\u001b[0m\n\u001b[0m\u001b[0;32m      5\u001b[0m     \u001b[0mpage\u001b[0m \u001b[1;33m=\u001b[0m \u001b[0mpage\u001b[0m \u001b[1;33m+\u001b[0m \u001b[1;36m1\u001b[0m\u001b[1;33m\u001b[0m\u001b[1;33m\u001b[0m\u001b[0m\n",
      "\u001b[1;31mNameError\u001b[0m: name 'driver' is not defined"
     ]
    }
   ],
   "source": [
    "page = 1\n",
    "while page != 370:\n",
    "    url = 'https://www.propertypro.ng/property-for-rent/house/?search=&auto=&bedroom=&min_price=&max_price=&page={page}'\n",
    "    driver.get(url)\n",
    "    page = page + 1"
   ]
  },
  {
   "cell_type": "markdown",
   "id": "40f90b47",
   "metadata": {},
   "source": [
    "Created an emply list for the columns I am interested in"
   ]
  },
  {
   "cell_type": "code",
   "execution_count": 10,
   "id": "cf197991",
   "metadata": {},
   "outputs": [],
   "source": [
    "addresses = []\n",
    "prices = []\n",
    "details =[]"
   ]
  },
  {
   "cell_type": "code",
   "execution_count": 11,
   "id": "bde27660",
   "metadata": {},
   "outputs": [],
   "source": [
    "page = 1\n",
    "while page != 370:\n",
    "    url = 'https://www.propertypro.ng/property-for-rent/house/?search=&auto=&bedroom=&min_price=&max_price=&page={page}'\n",
    "    response = requests.get(url)\n",
    "    html = response.content\n",
    "    soup = bs(html, \"lxml\")\n",
    "    for element in soup.findAll('div', attrs={'class': 'single-room-sale'}):\n",
    "        address = element.find('div', attrs={'class': 'single-room-text'})\n",
    "        price = element.find('div', attrs={'class':'n50'})\n",
    "        detail = element.find('div', attrs={'class': 'fur-areea'})\n",
    "        \n",
    "        if address and address.text:\n",
    "            addresses.append(address.text)\n",
    "        else:\n",
    "            addresses.append('No display data')\n",
    "        \n",
    "        if price and price.text:\n",
    "            prices.append(price.text)\n",
    "        else:\n",
    "            prices.append('No display data')\n",
    "        \n",
    "        if detail and detail.text:\n",
    "            details.append(detail.text)\n",
    "        else:\n",
    "            details.append('No display data')\n",
    "            \n",
    "    page = page + 1"
   ]
  },
  {
   "cell_type": "code",
   "execution_count": null,
   "id": "d112e65c",
   "metadata": {},
   "outputs": [],
   "source": [
    "addresses = []\n",
    "prices = []\n",
    "details =[]"
   ]
  },
  {
   "cell_type": "markdown",
   "id": "0163514f",
   "metadata": {},
   "source": [
    "Created a soup to extract the data, then an if statement so empty data does not return error while the scraper is parsing the site"
   ]
  },
  {
   "cell_type": "code",
   "execution_count": 12,
   "id": "b6eaf89a",
   "metadata": {
    "collapsed": true
   },
   "outputs": [
    {
     "ename": "NameError",
     "evalue": "name 'driver' is not defined",
     "output_type": "error",
     "traceback": [
      "\u001b[1;31m---------------------------------------------------------------------------\u001b[0m",
      "\u001b[1;31mNameError\u001b[0m                                 Traceback (most recent call last)",
      "\u001b[1;32m~\\AppData\\Local\\Temp/ipykernel_24732/786447507.py\u001b[0m in \u001b[0;36m<module>\u001b[1;34m\u001b[0m\n\u001b[1;32m----> 1\u001b[1;33m \u001b[0mcontent\u001b[0m \u001b[1;33m=\u001b[0m \u001b[0mdriver\u001b[0m\u001b[1;33m.\u001b[0m\u001b[0mpage_source\u001b[0m\u001b[1;33m\u001b[0m\u001b[1;33m\u001b[0m\u001b[0m\n\u001b[0m\u001b[0;32m      2\u001b[0m \u001b[0msoup\u001b[0m \u001b[1;33m=\u001b[0m \u001b[0mBeautifulSoup\u001b[0m\u001b[1;33m(\u001b[0m\u001b[0mcontent\u001b[0m\u001b[1;33m,\u001b[0m \u001b[0mfeatures\u001b[0m\u001b[1;33m=\u001b[0m\u001b[1;34m'html.parser'\u001b[0m\u001b[1;33m)\u001b[0m\u001b[1;33m\u001b[0m\u001b[1;33m\u001b[0m\u001b[0m\n\u001b[0;32m      3\u001b[0m \u001b[1;32mfor\u001b[0m \u001b[0melement\u001b[0m \u001b[1;32min\u001b[0m \u001b[0msoup\u001b[0m\u001b[1;33m.\u001b[0m\u001b[0mfindAll\u001b[0m\u001b[1;33m(\u001b[0m\u001b[1;34m'div'\u001b[0m\u001b[1;33m,\u001b[0m \u001b[0mattrs\u001b[0m\u001b[1;33m=\u001b[0m\u001b[1;33m{\u001b[0m\u001b[1;34m'class'\u001b[0m\u001b[1;33m:\u001b[0m \u001b[1;34m'single-room-sale'\u001b[0m\u001b[1;33m}\u001b[0m\u001b[1;33m)\u001b[0m\u001b[1;33m:\u001b[0m\u001b[1;33m\u001b[0m\u001b[1;33m\u001b[0m\u001b[0m\n\u001b[0;32m      4\u001b[0m     \u001b[0maddress\u001b[0m \u001b[1;33m=\u001b[0m \u001b[0melement\u001b[0m\u001b[1;33m.\u001b[0m\u001b[0mfind\u001b[0m\u001b[1;33m(\u001b[0m\u001b[1;34m'div'\u001b[0m\u001b[1;33m,\u001b[0m \u001b[0mattrs\u001b[0m\u001b[1;33m=\u001b[0m\u001b[1;33m{\u001b[0m\u001b[1;34m'class'\u001b[0m\u001b[1;33m:\u001b[0m \u001b[1;34m'single-room-text'\u001b[0m\u001b[1;33m}\u001b[0m\u001b[1;33m)\u001b[0m\u001b[1;33m\u001b[0m\u001b[1;33m\u001b[0m\u001b[0m\n\u001b[0;32m      5\u001b[0m     \u001b[0mprice\u001b[0m \u001b[1;33m=\u001b[0m \u001b[0melement\u001b[0m\u001b[1;33m.\u001b[0m\u001b[0mfind\u001b[0m\u001b[1;33m(\u001b[0m\u001b[1;34m'div'\u001b[0m\u001b[1;33m,\u001b[0m \u001b[0mattrs\u001b[0m\u001b[1;33m=\u001b[0m\u001b[1;33m{\u001b[0m\u001b[1;34m'class'\u001b[0m\u001b[1;33m:\u001b[0m\u001b[1;34m'n50'\u001b[0m\u001b[1;33m}\u001b[0m\u001b[1;33m)\u001b[0m\u001b[1;33m\u001b[0m\u001b[1;33m\u001b[0m\u001b[0m\n",
      "\u001b[1;31mNameError\u001b[0m: name 'driver' is not defined"
     ]
    }
   ],
   "source": [
    "content = driver.page_source\n",
    "soup = BeautifulSoup(content, features='html.parser')\n",
    "for element in soup.findAll('div', attrs={'class': 'single-room-sale'}):\n",
    "    address = element.find('div', attrs={'class': 'single-room-text'})\n",
    "    price = element.find('div', attrs={'class':'n50'})\n",
    "    detail = element.find('div', attrs={'class': 'fur-areea'})\n",
    "    \n",
    "    if address and address.text:\n",
    "        addresses.append(address.text)\n",
    "    else:\n",
    "        addresses.append('No display data')\n",
    "\n",
    "    if price and price.text:\n",
    "        prices.append(price.text)\n",
    "    else:\n",
    "        prices.append('No display data')\n",
    "        \n",
    "    if detail and detail.text:\n",
    "        details.append(detail.text)\n",
    "    else:\n",
    "        details.append('No display data')\n",
    "        "
   ]
  },
  {
   "cell_type": "markdown",
   "id": "317eb8c0",
   "metadata": {},
   "source": [
    "Created a dataframe with the lists generated earlier, then saved it to a file"
   ]
  },
  {
   "cell_type": "code",
   "execution_count": 17,
   "id": "cecdadac",
   "metadata": {},
   "outputs": [],
   "source": [
    "df = pd.DataFrame({'Address': addresses, 'Price': prices, 'Details': details})\n",
    "df.to_csv('listings.csv', index=False, encoding='utf-8')"
   ]
  },
  {
   "cell_type": "markdown",
   "id": "12098ca4",
   "metadata": {},
   "source": [
    "Checking the shape of the dataframe to know how much data was extracted"
   ]
  },
  {
   "cell_type": "code",
   "execution_count": 16,
   "id": "fc84c1a0",
   "metadata": {},
   "outputs": [
    {
     "data": {
      "text/plain": [
       "(8118, 3)"
      ]
     },
     "execution_count": 16,
     "metadata": {},
     "output_type": "execute_result"
    }
   ],
   "source": [
    "df.shape"
   ]
  },
  {
   "cell_type": "markdown",
   "id": "f70f8780",
   "metadata": {},
   "source": [
    "## Data Cleaning"
   ]
  },
  {
   "cell_type": "markdown",
   "id": "1a96e133",
   "metadata": {},
   "source": [
    "importing the csv file to start analysis"
   ]
  },
  {
   "cell_type": "code",
   "execution_count": 3,
   "id": "b347f5f6",
   "metadata": {},
   "outputs": [],
   "source": [
    "listings = pd.read_csv('listings.csv')"
   ]
  },
  {
   "cell_type": "code",
   "execution_count": 4,
   "id": "04b91f61",
   "metadata": {
    "scrolled": true
   },
   "outputs": [
    {
     "data": {
      "text/html": [
       "<div>\n",
       "<style scoped>\n",
       "    .dataframe tbody tr th:only-of-type {\n",
       "        vertical-align: middle;\n",
       "    }\n",
       "\n",
       "    .dataframe tbody tr th {\n",
       "        vertical-align: top;\n",
       "    }\n",
       "\n",
       "    .dataframe thead th {\n",
       "        text-align: right;\n",
       "    }\n",
       "</style>\n",
       "<table border=\"1\" class=\"dataframe\">\n",
       "  <thead>\n",
       "    <tr style=\"text-align: right;\">\n",
       "      <th></th>\n",
       "      <th>Address</th>\n",
       "      <th>Price</th>\n",
       "      <th>Details</th>\n",
       "    </tr>\n",
       "  </thead>\n",
       "  <tbody>\n",
       "    <tr>\n",
       "      <th>0</th>\n",
       "      <td>\\n 4 BEDROOM HOUSE FOR RENT \\nOld Ikoyi Ikoyi ...</td>\n",
       "      <td>\\n ₦ 14,000,000/year \\nSponsored\\n</td>\n",
       "      <td>\\n4 beds\\n4 baths\\n5 Toilets\\n</td>\n",
       "    </tr>\n",
       "    <tr>\n",
       "      <th>1</th>\n",
       "      <td>\\n 4 BEDROOM HOUSE FOR RENT \\nBanana Island Ik...</td>\n",
       "      <td>\\n ₦ 14,000,000/year \\nPremium Gold\\n</td>\n",
       "      <td>\\n4 beds\\n4 baths\\n5 Toilets\\n</td>\n",
       "    </tr>\n",
       "    <tr>\n",
       "      <th>2</th>\n",
       "      <td>\\n 3 BEDROOM HOUSE FOR RENT \\nOld Ikoyi Old Ik...</td>\n",
       "      <td>\\n ₦ 12,000,000 \\nPremium Gold\\n</td>\n",
       "      <td>\\n3 beds\\n3 baths\\n4 Toilets\\n</td>\n",
       "    </tr>\n",
       "    <tr>\n",
       "      <th>3</th>\n",
       "      <td>\\n 2 BEDROOM HOUSE FOR RENT \\nAmerican Interna...</td>\n",
       "      <td>\\n ₦ 2,000,000/year \\nPremium Gold\\n</td>\n",
       "      <td>\\n2 beds\\n2 baths\\n3 Toilets\\n</td>\n",
       "    </tr>\n",
       "    <tr>\n",
       "      <th>4</th>\n",
       "      <td>\\n 4 BEDROOM HOUSE FOR RENT \\nKolapo Ishola Gr...</td>\n",
       "      <td>\\n ₦ 2,500,000/year \\nPremium Gold\\n</td>\n",
       "      <td>\\n4 beds\\n4 baths\\n5 Toilets\\n</td>\n",
       "    </tr>\n",
       "  </tbody>\n",
       "</table>\n",
       "</div>"
      ],
      "text/plain": [
       "                                             Address  \\\n",
       "0  \\n 4 BEDROOM HOUSE FOR RENT \\nOld Ikoyi Ikoyi ...   \n",
       "1  \\n 4 BEDROOM HOUSE FOR RENT \\nBanana Island Ik...   \n",
       "2  \\n 3 BEDROOM HOUSE FOR RENT \\nOld Ikoyi Old Ik...   \n",
       "3  \\n 2 BEDROOM HOUSE FOR RENT \\nAmerican Interna...   \n",
       "4  \\n 4 BEDROOM HOUSE FOR RENT \\nKolapo Ishola Gr...   \n",
       "\n",
       "                                   Price                         Details  \n",
       "0     \\n ₦ 14,000,000/year \\nSponsored\\n  \\n4 beds\\n4 baths\\n5 Toilets\\n  \n",
       "1  \\n ₦ 14,000,000/year \\nPremium Gold\\n  \\n4 beds\\n4 baths\\n5 Toilets\\n  \n",
       "2       \\n ₦ 12,000,000 \\nPremium Gold\\n  \\n3 beds\\n3 baths\\n4 Toilets\\n  \n",
       "3   \\n ₦ 2,000,000/year \\nPremium Gold\\n  \\n2 beds\\n2 baths\\n3 Toilets\\n  \n",
       "4   \\n ₦ 2,500,000/year \\nPremium Gold\\n  \\n4 beds\\n4 baths\\n5 Toilets\\n  "
      ]
     },
     "execution_count": 4,
     "metadata": {},
     "output_type": "execute_result"
    }
   ],
   "source": [
    "listings.head()"
   ]
  },
  {
   "cell_type": "markdown",
   "id": "7bccbc69",
   "metadata": {},
   "source": [
    "Stripping to just town and state"
   ]
  },
  {
   "cell_type": "code",
   "execution_count": 9,
   "id": "644c3911",
   "metadata": {},
   "outputs": [],
   "source": [
    "listings['State']=listings['Address'].str[25:40]"
   ]
  },
  {
   "cell_type": "code",
   "execution_count": 10,
   "id": "fbcc8717",
   "metadata": {},
   "outputs": [
    {
     "data": {
      "text/html": [
       "<div>\n",
       "<style scoped>\n",
       "    .dataframe tbody tr th:only-of-type {\n",
       "        vertical-align: middle;\n",
       "    }\n",
       "\n",
       "    .dataframe tbody tr th {\n",
       "        vertical-align: top;\n",
       "    }\n",
       "\n",
       "    .dataframe thead th {\n",
       "        text-align: right;\n",
       "    }\n",
       "</style>\n",
       "<table border=\"1\" class=\"dataframe\">\n",
       "  <thead>\n",
       "    <tr style=\"text-align: right;\">\n",
       "      <th></th>\n",
       "      <th>Address</th>\n",
       "      <th>Price</th>\n",
       "      <th>Details</th>\n",
       "      <th>State</th>\n",
       "    </tr>\n",
       "  </thead>\n",
       "  <tbody>\n",
       "    <tr>\n",
       "      <th>0</th>\n",
       "      <td>\\n 4 BEDROOM HOUSE FOR RENT \\nOld Ikoyi Ikoyi ...</td>\n",
       "      <td>\\n ₦ 14,000,000/year \\nSponsored\\n</td>\n",
       "      <td>\\n4 beds\\n4 baths\\n5 Toilets\\n</td>\n",
       "      <td>T \\nOld Ikoyi Ik</td>\n",
       "    </tr>\n",
       "    <tr>\n",
       "      <th>1</th>\n",
       "      <td>\\n 4 BEDROOM HOUSE FOR RENT \\nBanana Island Ik...</td>\n",
       "      <td>\\n ₦ 14,000,000/year \\nPremium Gold\\n</td>\n",
       "      <td>\\n4 beds\\n4 baths\\n5 Toilets\\n</td>\n",
       "      <td>T \\nBanana Islan</td>\n",
       "    </tr>\n",
       "    <tr>\n",
       "      <th>2</th>\n",
       "      <td>\\n 3 BEDROOM HOUSE FOR RENT \\nOld Ikoyi Old Ik...</td>\n",
       "      <td>\\n ₦ 12,000,000 \\nPremium Gold\\n</td>\n",
       "      <td>\\n3 beds\\n3 baths\\n4 Toilets\\n</td>\n",
       "      <td>T \\nOld Ikoyi Ol</td>\n",
       "    </tr>\n",
       "    <tr>\n",
       "      <th>3</th>\n",
       "      <td>\\n 2 BEDROOM HOUSE FOR RENT \\nAmerican Interna...</td>\n",
       "      <td>\\n ₦ 2,000,000/year \\nPremium Gold\\n</td>\n",
       "      <td>\\n2 beds\\n2 baths\\n3 Toilets\\n</td>\n",
       "      <td>T \\nAmerican Int</td>\n",
       "    </tr>\n",
       "    <tr>\n",
       "      <th>4</th>\n",
       "      <td>\\n 4 BEDROOM HOUSE FOR RENT \\nKolapo Ishola Gr...</td>\n",
       "      <td>\\n ₦ 2,500,000/year \\nPremium Gold\\n</td>\n",
       "      <td>\\n4 beds\\n4 baths\\n5 Toilets\\n</td>\n",
       "      <td>T \\nKolapo Ishol</td>\n",
       "    </tr>\n",
       "  </tbody>\n",
       "</table>\n",
       "</div>"
      ],
      "text/plain": [
       "                                             Address  \\\n",
       "0  \\n 4 BEDROOM HOUSE FOR RENT \\nOld Ikoyi Ikoyi ...   \n",
       "1  \\n 4 BEDROOM HOUSE FOR RENT \\nBanana Island Ik...   \n",
       "2  \\n 3 BEDROOM HOUSE FOR RENT \\nOld Ikoyi Old Ik...   \n",
       "3  \\n 2 BEDROOM HOUSE FOR RENT \\nAmerican Interna...   \n",
       "4  \\n 4 BEDROOM HOUSE FOR RENT \\nKolapo Ishola Gr...   \n",
       "\n",
       "                                   Price                         Details  \\\n",
       "0     \\n ₦ 14,000,000/year \\nSponsored\\n  \\n4 beds\\n4 baths\\n5 Toilets\\n   \n",
       "1  \\n ₦ 14,000,000/year \\nPremium Gold\\n  \\n4 beds\\n4 baths\\n5 Toilets\\n   \n",
       "2       \\n ₦ 12,000,000 \\nPremium Gold\\n  \\n3 beds\\n3 baths\\n4 Toilets\\n   \n",
       "3   \\n ₦ 2,000,000/year \\nPremium Gold\\n  \\n2 beds\\n2 baths\\n3 Toilets\\n   \n",
       "4   \\n ₦ 2,500,000/year \\nPremium Gold\\n  \\n4 beds\\n4 baths\\n5 Toilets\\n   \n",
       "\n",
       "              State  \n",
       "0  T \\nOld Ikoyi Ik  \n",
       "1  T \\nBanana Islan  \n",
       "2  T \\nOld Ikoyi Ol  \n",
       "3  T \\nAmerican Int  \n",
       "4  T \\nKolapo Ishol  "
      ]
     },
     "execution_count": 10,
     "metadata": {},
     "output_type": "execute_result"
    }
   ],
   "source": [
    "listings.head()"
   ]
  },
  {
   "cell_type": "markdown",
   "id": "9ebd2ed0",
   "metadata": {},
   "source": [
    "I realised, while cleaning, the extreme lack of uniformity in the way the Address was written and found no alternative for segregating location on the website or through code due to the large number and difference in entries.\n",
    "\n",
    "Also, Over 40%  of the data from the site are on a particular town in a state - Lekki Lagos, Nigeria. The remaining 60% shared by hundreds of towns in 20 states, resulting in a skewed data. \n",
    "\n",
    "I decided to remove the  Address column. However, considering the importance of location on house rent prices and the wide variability between house prices in different locations especially since the data scraped is of 20 states in Nigeria.\n",
    "\n",
    "To solve these, I decided to scrape only the data from a particular town and state, thereby removing the effect of variability in location since all the house prices will be from that location.\n",
    "\n",
    "I choosed the location with the highest number of entries. As a result, the model will predict house prices in Lekki, Lagos, Nigeria"
   ]
  },
  {
   "cell_type": "markdown",
   "id": "6cc2bb34",
   "metadata": {},
   "source": [
    "### Scraping data for house rent prices in Lekki Lagos, Nigeria"
   ]
  },
  {
   "cell_type": "markdown",
   "id": "1d2afd2b",
   "metadata": {},
   "source": [
    "Creating a while loop to extract the 142 pages of data"
   ]
  },
  {
   "cell_type": "code",
   "execution_count": 94,
   "id": "02eff591",
   "metadata": {},
   "outputs": [],
   "source": [
    "amount = []\n",
    "qualities =[]"
   ]
  },
  {
   "cell_type": "code",
   "execution_count": 95,
   "id": "9f87e71a",
   "metadata": {},
   "outputs": [],
   "source": [
    "page = 1\n",
    "while page != 142:\n",
    "    url = 'https://www.propertypro.ng/property-for-rent/house/in/lagos/lekki?page={page}'\n",
    "    response = requests.get(url)\n",
    "    html = response.content\n",
    "    soup = bs(html, \"lxml\")\n",
    "    for element in soup.findAll('div', attrs={'class': 'single-room-sale'}):\n",
    "        price = element.find('div', attrs={'class':'n50'})\n",
    "        detail = element.find('div', attrs={'class': 'fur-areea'})\n",
    "        \n",
    "        if price and price.text:\n",
    "            amount.append(price.text)\n",
    "        else:\n",
    "            amount.append('NaN')\n",
    "        \n",
    "        if detail and detail.text:\n",
    "            qualities.append(detail.text)\n",
    "        else:\n",
    "            qualities.append('NaN')\n",
    "            \n",
    "    page = page + 1"
   ]
  },
  {
   "cell_type": "markdown",
   "id": "70766e0a",
   "metadata": {},
   "source": [
    "Created a dataframe with the lists generated earlier, then saved it to a file"
   ]
  },
  {
   "cell_type": "code",
   "execution_count": 97,
   "id": "9780f3e7",
   "metadata": {},
   "outputs": [],
   "source": [
    "df2 = pd.DataFrame({'Price': amount, 'Details': qualities})"
   ]
  },
  {
   "cell_type": "code",
   "execution_count": 142,
   "id": "edf64b2b",
   "metadata": {},
   "outputs": [],
   "source": [
    "df2.to_csv('lagos-listing.csv', index=False, encoding='utf-8')"
   ]
  },
  {
   "cell_type": "markdown",
   "id": "c37ce2e7",
   "metadata": {},
   "source": [
    "Checking the shape of the dataframe to know how much data was extracted"
   ]
  },
  {
   "cell_type": "code",
   "execution_count": 143,
   "id": "d56f3bb3",
   "metadata": {},
   "outputs": [
    {
     "data": {
      "text/plain": [
       "(3243, 2)"
      ]
     },
     "execution_count": 143,
     "metadata": {},
     "output_type": "execute_result"
    }
   ],
   "source": [
    "df2.shape"
   ]
  },
  {
   "cell_type": "code",
   "execution_count": 144,
   "id": "47425fbd",
   "metadata": {},
   "outputs": [
    {
     "data": {
      "text/html": [
       "<div>\n",
       "<style scoped>\n",
       "    .dataframe tbody tr th:only-of-type {\n",
       "        vertical-align: middle;\n",
       "    }\n",
       "\n",
       "    .dataframe tbody tr th {\n",
       "        vertical-align: top;\n",
       "    }\n",
       "\n",
       "    .dataframe thead th {\n",
       "        text-align: right;\n",
       "    }\n",
       "</style>\n",
       "<table border=\"1\" class=\"dataframe\">\n",
       "  <thead>\n",
       "    <tr style=\"text-align: right;\">\n",
       "      <th></th>\n",
       "      <th>Price</th>\n",
       "      <th>Details</th>\n",
       "    </tr>\n",
       "  </thead>\n",
       "  <tbody>\n",
       "    <tr>\n",
       "      <th>0</th>\n",
       "      <td>\\n ₦ 4,000,000/year \\nSponsored\\n</td>\n",
       "      <td>\\n4 beds\\n4 baths\\n5 Toilets\\n</td>\n",
       "    </tr>\n",
       "    <tr>\n",
       "      <th>1</th>\n",
       "      <td>\\n ₦ 5,000,000 \\nPremium Gold\\n</td>\n",
       "      <td>\\n4 beds\\n4 baths\\n5 Toilets\\n</td>\n",
       "    </tr>\n",
       "    <tr>\n",
       "      <th>2</th>\n",
       "      <td>\\n ₦ 7,500,000 \\nPremium Gold\\n</td>\n",
       "      <td>\\n5 beds\\n5 baths\\n6 Toilets\\n</td>\n",
       "    </tr>\n",
       "    <tr>\n",
       "      <th>3</th>\n",
       "      <td>\\n ₦ 7,000,000 \\nPremium Gold\\n</td>\n",
       "      <td>\\n5 beds\\n5 baths\\n6 Toilets\\n</td>\n",
       "    </tr>\n",
       "    <tr>\n",
       "      <th>4</th>\n",
       "      <td>\\n ₦ 2,700,000 \\nPremium Gold\\n</td>\n",
       "      <td>\\n2 beds\\n2 baths\\n3 Toilets\\n</td>\n",
       "    </tr>\n",
       "  </tbody>\n",
       "</table>\n",
       "</div>"
      ],
      "text/plain": [
       "                               Price                         Details\n",
       "0  \\n ₦ 4,000,000/year \\nSponsored\\n  \\n4 beds\\n4 baths\\n5 Toilets\\n\n",
       "1    \\n ₦ 5,000,000 \\nPremium Gold\\n  \\n4 beds\\n4 baths\\n5 Toilets\\n\n",
       "2    \\n ₦ 7,500,000 \\nPremium Gold\\n  \\n5 beds\\n5 baths\\n6 Toilets\\n\n",
       "3    \\n ₦ 7,000,000 \\nPremium Gold\\n  \\n5 beds\\n5 baths\\n6 Toilets\\n\n",
       "4    \\n ₦ 2,700,000 \\nPremium Gold\\n  \\n2 beds\\n2 baths\\n3 Toilets\\n"
      ]
     },
     "execution_count": 144,
     "metadata": {},
     "output_type": "execute_result"
    }
   ],
   "source": [
    "df2.head()"
   ]
  },
  {
   "cell_type": "code",
   "execution_count": 221,
   "id": "7d5d9b17",
   "metadata": {},
   "outputs": [],
   "source": [
    "listing=pd.read_csv('lagos-listing.csv')"
   ]
  },
  {
   "cell_type": "code",
   "execution_count": 222,
   "id": "a8036437",
   "metadata": {},
   "outputs": [
    {
     "data": {
      "text/html": [
       "<div>\n",
       "<style scoped>\n",
       "    .dataframe tbody tr th:only-of-type {\n",
       "        vertical-align: middle;\n",
       "    }\n",
       "\n",
       "    .dataframe tbody tr th {\n",
       "        vertical-align: top;\n",
       "    }\n",
       "\n",
       "    .dataframe thead th {\n",
       "        text-align: right;\n",
       "    }\n",
       "</style>\n",
       "<table border=\"1\" class=\"dataframe\">\n",
       "  <thead>\n",
       "    <tr style=\"text-align: right;\">\n",
       "      <th></th>\n",
       "      <th>Price</th>\n",
       "      <th>Details</th>\n",
       "    </tr>\n",
       "  </thead>\n",
       "  <tbody>\n",
       "    <tr>\n",
       "      <th>0</th>\n",
       "      <td>\\n ₦ 4,000,000/year \\nSponsored\\n</td>\n",
       "      <td>\\n4 beds\\n4 baths\\n5 Toilets\\n</td>\n",
       "    </tr>\n",
       "    <tr>\n",
       "      <th>1</th>\n",
       "      <td>\\n ₦ 5,000,000 \\nPremium Gold\\n</td>\n",
       "      <td>\\n4 beds\\n4 baths\\n5 Toilets\\n</td>\n",
       "    </tr>\n",
       "    <tr>\n",
       "      <th>2</th>\n",
       "      <td>\\n ₦ 7,500,000 \\nPremium Gold\\n</td>\n",
       "      <td>\\n5 beds\\n5 baths\\n6 Toilets\\n</td>\n",
       "    </tr>\n",
       "    <tr>\n",
       "      <th>3</th>\n",
       "      <td>\\n ₦ 7,000,000 \\nPremium Gold\\n</td>\n",
       "      <td>\\n5 beds\\n5 baths\\n6 Toilets\\n</td>\n",
       "    </tr>\n",
       "    <tr>\n",
       "      <th>4</th>\n",
       "      <td>\\n ₦ 2,700,000 \\nPremium Gold\\n</td>\n",
       "      <td>\\n2 beds\\n2 baths\\n3 Toilets\\n</td>\n",
       "    </tr>\n",
       "  </tbody>\n",
       "</table>\n",
       "</div>"
      ],
      "text/plain": [
       "                               Price                         Details\n",
       "0  \\n ₦ 4,000,000/year \\nSponsored\\n  \\n4 beds\\n4 baths\\n5 Toilets\\n\n",
       "1    \\n ₦ 5,000,000 \\nPremium Gold\\n  \\n4 beds\\n4 baths\\n5 Toilets\\n\n",
       "2    \\n ₦ 7,500,000 \\nPremium Gold\\n  \\n5 beds\\n5 baths\\n6 Toilets\\n\n",
       "3    \\n ₦ 7,000,000 \\nPremium Gold\\n  \\n5 beds\\n5 baths\\n6 Toilets\\n\n",
       "4    \\n ₦ 2,700,000 \\nPremium Gold\\n  \\n2 beds\\n2 baths\\n3 Toilets\\n"
      ]
     },
     "execution_count": 222,
     "metadata": {},
     "output_type": "execute_result"
    }
   ],
   "source": [
    "listing.head()"
   ]
  },
  {
   "cell_type": "code",
   "execution_count": 223,
   "id": "86785364",
   "metadata": {},
   "outputs": [],
   "source": [
    "listing['Price']=listing['Price'].str.strip()"
   ]
  },
  {
   "cell_type": "code",
   "execution_count": 224,
   "id": "4510a5a7",
   "metadata": {},
   "outputs": [],
   "source": [
    "listing['Price']=listing['Price'].str.strip('₦')"
   ]
  },
  {
   "cell_type": "code",
   "execution_count": 225,
   "id": "d5d6cfc5",
   "metadata": {},
   "outputs": [],
   "source": [
    "listing['Price']=listing['Price'].str.split(' ').str[1]"
   ]
  },
  {
   "cell_type": "code",
   "execution_count": 226,
   "id": "a9911525",
   "metadata": {},
   "outputs": [],
   "source": [
    "listing['Price']=listing['Price'].str.replace(',','')\n",
    "listing['Price']=listing['Price'].str.strip('/year')\n",
    "listing['Price']=listing['Price'].str.strip('/sqm')"
   ]
  },
  {
   "cell_type": "code",
   "execution_count": 227,
   "id": "0a36c4b8",
   "metadata": {},
   "outputs": [
    {
     "data": {
      "text/html": [
       "<div>\n",
       "<style scoped>\n",
       "    .dataframe tbody tr th:only-of-type {\n",
       "        vertical-align: middle;\n",
       "    }\n",
       "\n",
       "    .dataframe tbody tr th {\n",
       "        vertical-align: top;\n",
       "    }\n",
       "\n",
       "    .dataframe thead th {\n",
       "        text-align: right;\n",
       "    }\n",
       "</style>\n",
       "<table border=\"1\" class=\"dataframe\">\n",
       "  <thead>\n",
       "    <tr style=\"text-align: right;\">\n",
       "      <th></th>\n",
       "      <th>Price</th>\n",
       "      <th>Details</th>\n",
       "    </tr>\n",
       "  </thead>\n",
       "  <tbody>\n",
       "    <tr>\n",
       "      <th>0</th>\n",
       "      <td>4000000</td>\n",
       "      <td>\\n4 beds\\n4 baths\\n5 Toilets\\n</td>\n",
       "    </tr>\n",
       "    <tr>\n",
       "      <th>1</th>\n",
       "      <td>5000000</td>\n",
       "      <td>\\n4 beds\\n4 baths\\n5 Toilets\\n</td>\n",
       "    </tr>\n",
       "    <tr>\n",
       "      <th>2</th>\n",
       "      <td>7500000</td>\n",
       "      <td>\\n5 beds\\n5 baths\\n6 Toilets\\n</td>\n",
       "    </tr>\n",
       "    <tr>\n",
       "      <th>3</th>\n",
       "      <td>7000000</td>\n",
       "      <td>\\n5 beds\\n5 baths\\n6 Toilets\\n</td>\n",
       "    </tr>\n",
       "    <tr>\n",
       "      <th>4</th>\n",
       "      <td>2700000</td>\n",
       "      <td>\\n2 beds\\n2 baths\\n3 Toilets\\n</td>\n",
       "    </tr>\n",
       "  </tbody>\n",
       "</table>\n",
       "</div>"
      ],
      "text/plain": [
       "     Price                         Details\n",
       "0  4000000  \\n4 beds\\n4 baths\\n5 Toilets\\n\n",
       "1  5000000  \\n4 beds\\n4 baths\\n5 Toilets\\n\n",
       "2  7500000  \\n5 beds\\n5 baths\\n6 Toilets\\n\n",
       "3  7000000  \\n5 beds\\n5 baths\\n6 Toilets\\n\n",
       "4  2700000  \\n2 beds\\n2 baths\\n3 Toilets\\n"
      ]
     },
     "execution_count": 227,
     "metadata": {},
     "output_type": "execute_result"
    }
   ],
   "source": [
    "listing.head()"
   ]
  },
  {
   "cell_type": "code",
   "execution_count": 228,
   "id": "15cc2e40",
   "metadata": {},
   "outputs": [],
   "source": [
    "listing['Beds']=listing['Details'].str[1]\n",
    "listing['Baths']=listing['Details'].str[8]\n",
    "listing['Toilets']=listing['Details'].str[16]"
   ]
  },
  {
   "cell_type": "code",
   "execution_count": 229,
   "id": "9a5dfada",
   "metadata": {},
   "outputs": [
    {
     "data": {
      "text/html": [
       "<div>\n",
       "<style scoped>\n",
       "    .dataframe tbody tr th:only-of-type {\n",
       "        vertical-align: middle;\n",
       "    }\n",
       "\n",
       "    .dataframe tbody tr th {\n",
       "        vertical-align: top;\n",
       "    }\n",
       "\n",
       "    .dataframe thead th {\n",
       "        text-align: right;\n",
       "    }\n",
       "</style>\n",
       "<table border=\"1\" class=\"dataframe\">\n",
       "  <thead>\n",
       "    <tr style=\"text-align: right;\">\n",
       "      <th></th>\n",
       "      <th>Price</th>\n",
       "      <th>Details</th>\n",
       "      <th>Beds</th>\n",
       "      <th>Baths</th>\n",
       "      <th>Toilets</th>\n",
       "    </tr>\n",
       "  </thead>\n",
       "  <tbody>\n",
       "    <tr>\n",
       "      <th>0</th>\n",
       "      <td>4000000</td>\n",
       "      <td>\\n4 beds\\n4 baths\\n5 Toilets\\n</td>\n",
       "      <td>4</td>\n",
       "      <td>4</td>\n",
       "      <td>5</td>\n",
       "    </tr>\n",
       "    <tr>\n",
       "      <th>1</th>\n",
       "      <td>5000000</td>\n",
       "      <td>\\n4 beds\\n4 baths\\n5 Toilets\\n</td>\n",
       "      <td>4</td>\n",
       "      <td>4</td>\n",
       "      <td>5</td>\n",
       "    </tr>\n",
       "    <tr>\n",
       "      <th>2</th>\n",
       "      <td>7500000</td>\n",
       "      <td>\\n5 beds\\n5 baths\\n6 Toilets\\n</td>\n",
       "      <td>5</td>\n",
       "      <td>5</td>\n",
       "      <td>6</td>\n",
       "    </tr>\n",
       "    <tr>\n",
       "      <th>3</th>\n",
       "      <td>7000000</td>\n",
       "      <td>\\n5 beds\\n5 baths\\n6 Toilets\\n</td>\n",
       "      <td>5</td>\n",
       "      <td>5</td>\n",
       "      <td>6</td>\n",
       "    </tr>\n",
       "    <tr>\n",
       "      <th>4</th>\n",
       "      <td>2700000</td>\n",
       "      <td>\\n2 beds\\n2 baths\\n3 Toilets\\n</td>\n",
       "      <td>2</td>\n",
       "      <td>2</td>\n",
       "      <td>3</td>\n",
       "    </tr>\n",
       "  </tbody>\n",
       "</table>\n",
       "</div>"
      ],
      "text/plain": [
       "     Price                         Details Beds Baths Toilets\n",
       "0  4000000  \\n4 beds\\n4 baths\\n5 Toilets\\n    4     4       5\n",
       "1  5000000  \\n4 beds\\n4 baths\\n5 Toilets\\n    4     4       5\n",
       "2  7500000  \\n5 beds\\n5 baths\\n6 Toilets\\n    5     5       6\n",
       "3  7000000  \\n5 beds\\n5 baths\\n6 Toilets\\n    5     5       6\n",
       "4  2700000  \\n2 beds\\n2 baths\\n3 Toilets\\n    2     2       3"
      ]
     },
     "execution_count": 229,
     "metadata": {},
     "output_type": "execute_result"
    }
   ],
   "source": [
    "listing.head()"
   ]
  },
  {
   "cell_type": "code",
   "execution_count": 230,
   "id": "741aaac5",
   "metadata": {},
   "outputs": [],
   "source": [
    "listing=listing.drop(['Details'],axis='columns')"
   ]
  },
  {
   "cell_type": "code",
   "execution_count": 231,
   "id": "375a08af",
   "metadata": {},
   "outputs": [
    {
     "data": {
      "text/html": [
       "<div>\n",
       "<style scoped>\n",
       "    .dataframe tbody tr th:only-of-type {\n",
       "        vertical-align: middle;\n",
       "    }\n",
       "\n",
       "    .dataframe tbody tr th {\n",
       "        vertical-align: top;\n",
       "    }\n",
       "\n",
       "    .dataframe thead th {\n",
       "        text-align: right;\n",
       "    }\n",
       "</style>\n",
       "<table border=\"1\" class=\"dataframe\">\n",
       "  <thead>\n",
       "    <tr style=\"text-align: right;\">\n",
       "      <th></th>\n",
       "      <th>Price</th>\n",
       "      <th>Beds</th>\n",
       "      <th>Baths</th>\n",
       "      <th>Toilets</th>\n",
       "    </tr>\n",
       "  </thead>\n",
       "  <tbody>\n",
       "    <tr>\n",
       "      <th>0</th>\n",
       "      <td>4000000</td>\n",
       "      <td>4</td>\n",
       "      <td>4</td>\n",
       "      <td>5</td>\n",
       "    </tr>\n",
       "    <tr>\n",
       "      <th>1</th>\n",
       "      <td>5000000</td>\n",
       "      <td>4</td>\n",
       "      <td>4</td>\n",
       "      <td>5</td>\n",
       "    </tr>\n",
       "    <tr>\n",
       "      <th>2</th>\n",
       "      <td>7500000</td>\n",
       "      <td>5</td>\n",
       "      <td>5</td>\n",
       "      <td>6</td>\n",
       "    </tr>\n",
       "    <tr>\n",
       "      <th>3</th>\n",
       "      <td>7000000</td>\n",
       "      <td>5</td>\n",
       "      <td>5</td>\n",
       "      <td>6</td>\n",
       "    </tr>\n",
       "    <tr>\n",
       "      <th>4</th>\n",
       "      <td>2700000</td>\n",
       "      <td>2</td>\n",
       "      <td>2</td>\n",
       "      <td>3</td>\n",
       "    </tr>\n",
       "  </tbody>\n",
       "</table>\n",
       "</div>"
      ],
      "text/plain": [
       "     Price Beds Baths Toilets\n",
       "0  4000000    4     4       5\n",
       "1  5000000    4     4       5\n",
       "2  7500000    5     5       6\n",
       "3  7000000    5     5       6\n",
       "4  2700000    2     2       3"
      ]
     },
     "execution_count": 231,
     "metadata": {},
     "output_type": "execute_result"
    }
   ],
   "source": [
    "listing.head()"
   ]
  },
  {
   "cell_type": "markdown",
   "id": "63c33708",
   "metadata": {},
   "source": [
    "Dealing with null values"
   ]
  },
  {
   "cell_type": "code",
   "execution_count": 232,
   "id": "9fcea09a",
   "metadata": {
    "scrolled": true
   },
   "outputs": [
    {
     "data": {
      "text/plain": [
       "Price      141\n",
       "Beds       141\n",
       "Baths      141\n",
       "Toilets    141\n",
       "dtype: int64"
      ]
     },
     "execution_count": 232,
     "metadata": {},
     "output_type": "execute_result"
    }
   ],
   "source": [
    "#Checking for null values\n",
    "listing.isnull().sum()"
   ]
  },
  {
   "cell_type": "code",
   "execution_count": 233,
   "id": "95915698",
   "metadata": {},
   "outputs": [
    {
     "data": {
      "text/plain": [
       "Price      0\n",
       "Beds       0\n",
       "Baths      0\n",
       "Toilets    0\n",
       "dtype: int64"
      ]
     },
     "execution_count": 233,
     "metadata": {},
     "output_type": "execute_result"
    }
   ],
   "source": [
    "#filling the nulls forward\n",
    "listing=listing.fillna(method='ffill')\n",
    "listing.isnull().sum()"
   ]
  },
  {
   "cell_type": "markdown",
   "id": "ff0cb700",
   "metadata": {},
   "source": [
    "Correcting the data types"
   ]
  },
  {
   "cell_type": "code",
   "execution_count": 275,
   "id": "0247c096",
   "metadata": {},
   "outputs": [
    {
     "data": {
      "text/plain": [
       "4    2423\n",
       "5     449\n",
       "2     307\n",
       "3      29\n",
       "0      18\n",
       "1       6\n",
       "6       5\n",
       "Name: Beds, dtype: Int64"
      ]
     },
     "execution_count": 275,
     "metadata": {},
     "output_type": "execute_result"
    }
   ],
   "source": [
    "listing['Beds']=pd.to_numeric(listing['Beds'], errors='coerce').apply(np.round).astype('Int64')\n",
    "listing['Beds'].value_counts()"
   ]
  },
  {
   "cell_type": "code",
   "execution_count": 276,
   "id": "d887e840",
   "metadata": {},
   "outputs": [
    {
     "data": {
      "text/plain": [
       "8000000      564\n",
       "4500000      423\n",
       "6000000      423\n",
       "9000000      284\n",
       "5000000      282\n",
       "            ... \n",
       "1500000        1\n",
       "47000000       1\n",
       "800000         1\n",
       "158000000      1\n",
       "43000000       1\n",
       "Name: Price, Length: 79, dtype: Int64"
      ]
     },
     "execution_count": 276,
     "metadata": {},
     "output_type": "execute_result"
    }
   ],
   "source": [
    "listing['Price']=pd.to_numeric(listing['Price'], errors='coerce').apply(np.round).astype('Int64')\n",
    "listing['Price'].value_counts()"
   ]
  },
  {
   "cell_type": "code",
   "execution_count": 277,
   "id": "20bf981f",
   "metadata": {},
   "outputs": [
    {
     "data": {
      "text/plain": [
       "4    2327\n",
       "5     543\n",
       "2     307\n",
       "0      26\n",
       "3      21\n",
       "6       7\n",
       "1       1\n",
       "Name: Baths, dtype: Int64"
      ]
     },
     "execution_count": 277,
     "metadata": {},
     "output_type": "execute_result"
    }
   ],
   "source": [
    "listing['Baths']=pd.to_numeric(listing['Baths'], errors='coerce').apply(np.round).astype('Int64')\n",
    "listing['Baths'].value_counts()"
   ]
  },
  {
   "cell_type": "code",
   "execution_count": 278,
   "id": "3b3a4ce7",
   "metadata": {
    "scrolled": true
   },
   "outputs": [
    {
     "name": "stdout",
     "output_type": "stream",
     "text": [
      "<class 'pandas.core.frame.DataFrame'>\n",
      "RangeIndex: 3243 entries, 0 to 3242\n",
      "Data columns (total 4 columns):\n",
      " #   Column   Non-Null Count  Dtype \n",
      "---  ------   --------------  ----- \n",
      " 0   Price    3243 non-null   Int64 \n",
      " 1   Beds     3237 non-null   Int64 \n",
      " 2   Baths    3232 non-null   Int64 \n",
      " 3   Toilets  3243 non-null   object\n",
      "dtypes: Int64(3), object(1)\n",
      "memory usage: 111.0+ KB\n"
     ]
    }
   ],
   "source": [
    "listing.info()"
   ]
  },
  {
   "cell_type": "markdown",
   "id": "d3d33d99",
   "metadata": {},
   "source": [
    "#### Saving the cleaned data in a new file"
   ]
  },
  {
   "cell_type": "code",
   "execution_count": 281,
   "id": "b0bc591b",
   "metadata": {},
   "outputs": [],
   "source": [
    "listing.to_csv('Cleaned-listing.csv', index=False, encoding='utf-8')"
   ]
  },
  {
   "cell_type": "markdown",
   "id": "77e847ea",
   "metadata": {},
   "source": [
    "## Exploratory Data Analysis (EDA)"
   ]
  },
  {
   "cell_type": "code",
   "execution_count": null,
   "id": "77d7ac1f",
   "metadata": {},
   "outputs": [],
   "source": []
  },
  {
   "cell_type": "code",
   "execution_count": 283,
   "id": "5c260885",
   "metadata": {
    "scrolled": true
   },
   "outputs": [
    {
     "name": "stderr",
     "output_type": "stream",
     "text": [
      "C:\\Users\\PC\\anaconda3\\lib\\site-packages\\seaborn\\_decorators.py:36: FutureWarning: Pass the following variable as a keyword arg: x. From version 0.12, the only valid positional argument will be `data`, and passing other arguments without an explicit keyword will result in an error or misinterpretation.\n",
      "  warnings.warn(\n"
     ]
    },
    {
     "data": {
      "text/plain": [
       "<AxesSubplot:xlabel='Price'>"
      ]
     },
     "execution_count": 283,
     "metadata": {},
     "output_type": "execute_result"
    },
    {
     "data": {
      "image/png": "[encoded data removed]",
      "text/plain": [
       "<Figure size 432x288 with 1 Axes>"
      ]
     },
     "metadata": {
      "needs_background": "light"
     },
     "output_type": "display_data"
    }
   ],
   "source": [
    "sns.boxplot(listing['Price'])"
   ]
  },
  {
   "cell_type": "code",
   "execution_count": null,
   "id": "7c919418",
   "metadata": {},
   "outputs": [],
   "source": []
  }
 ],
 "metadata": {
  "kernelspec": {
   "display_name": "Python 3 (ipykernel)",
   "language": "python",
   "name": "python3"
  },
  "language_info": {
   "codemirror_mode": {
    "name": "ipython",
    "version": 3
   },
   "file_extension": ".py",
   "mimetype": "text/x-python",
   "name": "python",
   "nbconvert_exporter": "python",
   "pygments_lexer": "ipython3",
   "version": "3.9.7"
  }
 },
 "nbformat": 4,
 "nbformat_minor": 5
}
