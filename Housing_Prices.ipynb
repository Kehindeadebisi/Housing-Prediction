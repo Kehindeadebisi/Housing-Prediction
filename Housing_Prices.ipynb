{
 "cells": [
  {
   "cell_type": "markdown",
   "id": "92dae533",
   "metadata": {},
   "source": [
    "# SheCodeAfrica Advanced Machine Learning Project\n",
    "\n",
    "## Prediction of Rent Prices for Houses in Nigeria\n",
    "\n",
    "The aim of this project is to\n",
    "- Extract data from a Nigerian property website(Site used was propertypro.ng)\n",
    "- Clean, Preprocess and Analyse the data extracted\n",
    "- Build a machine learning model that predicts house rent price based on some details specifically location, price, number of rooms and bathrooms\n",
    "- Deploy to a web app using flask"
   ]
  },
  {
   "cell_type": "markdown",
   "id": "64baaf34",
   "metadata": {},
   "source": [
    "## Web Scraping"
   ]
  },
  {
   "cell_type": "markdown",
   "id": "b58db08e",
   "metadata": {},
   "source": [
    "importing the needed libraries"
   ]
  },
  {
   "cell_type": "code",
   "execution_count": 2,
   "id": "2d96b12e",
   "metadata": {},
   "outputs": [],
   "source": [
    "from selenium import webdriver\n",
    "from bs4 import BeautifulSoup as bs\n",
    "import pandas as pd\n",
    "import numpy as np\n",
    "import seaborn as sns\n",
    "import matplotlib.pyplot as plt\n",
    "import requests"
   ]
  },
  {
   "cell_type": "code",
   "execution_count": 2,
   "id": "8f870c54",
   "metadata": {
    "scrolled": true
   },
   "outputs": [
    {
     "name": "stderr",
     "output_type": "stream",
     "text": [
      "C:\\Users\\PC\\AppData\\Local\\Temp/ipykernel_24972/3246509272.py:1: DeprecationWarning: executable_path has been deprecated, please pass in a Service object\n",
      "  driver=webdriver.Chrome('C:/User/PC/Downloads/chromedriver_win32.exe')\n"
     ]
    }
   ],
   "source": [
    "#Creating a driver\n",
    "driver=webdriver.Chrome('C:/User/PC/Downloads/chromedriver_win32.exe')"
   ]
  },
  {
   "cell_type": "markdown",
   "id": "4b450974",
   "metadata": {},
   "source": [
    "There are multiple pages, about 370 so I created a while loop to make it easier extract data from all 370 at once"
   ]
  },
  {
   "cell_type": "code",
   "execution_count": 2,
   "id": "9a7b3407",
   "metadata": {
    "collapsed": true
   },
   "outputs": [
    {
     "ename": "NameError",
     "evalue": "name 'driver' is not defined",
     "output_type": "error",
     "traceback": [
      "\u001b[1;31m---------------------------------------------------------------------------\u001b[0m",
      "\u001b[1;31mNameError\u001b[0m                                 Traceback (most recent call last)",
      "\u001b[1;32m~\\AppData\\Local\\Temp/ipykernel_24732/1530365674.py\u001b[0m in \u001b[0;36m<module>\u001b[1;34m\u001b[0m\n\u001b[0;32m      2\u001b[0m \u001b[1;32mwhile\u001b[0m \u001b[0mpage\u001b[0m \u001b[1;33m!=\u001b[0m \u001b[1;36m370\u001b[0m\u001b[1;33m:\u001b[0m\u001b[1;33m\u001b[0m\u001b[1;33m\u001b[0m\u001b[0m\n\u001b[0;32m      3\u001b[0m     \u001b[0murl\u001b[0m \u001b[1;33m=\u001b[0m \u001b[1;34m'https://www.propertypro.ng/property-for-rent/house/?search=&auto=&bedroom=&min_price=&max_price=&page={page}'\u001b[0m\u001b[1;33m\u001b[0m\u001b[1;33m\u001b[0m\u001b[0m\n\u001b[1;32m----> 4\u001b[1;33m     \u001b[0mdriver\u001b[0m\u001b[1;33m.\u001b[0m\u001b[0mget\u001b[0m\u001b[1;33m(\u001b[0m\u001b[0murl\u001b[0m\u001b[1;33m)\u001b[0m\u001b[1;33m\u001b[0m\u001b[1;33m\u001b[0m\u001b[0m\n\u001b[0m\u001b[0;32m      5\u001b[0m     \u001b[0mpage\u001b[0m \u001b[1;33m=\u001b[0m \u001b[0mpage\u001b[0m \u001b[1;33m+\u001b[0m \u001b[1;36m1\u001b[0m\u001b[1;33m\u001b[0m\u001b[1;33m\u001b[0m\u001b[0m\n",
      "\u001b[1;31mNameError\u001b[0m: name 'driver' is not defined"
     ]
    }
   ],
   "source": [
    "page = 1\n",
    "while page != 370:\n",
    "    url = 'https://www.propertypro.ng/property-for-rent/house/?search=&auto=&bedroom=&min_price=&max_price=&page={page}'\n",
    "    driver.get(url)\n",
    "    page = page + 1"
   ]
  },
  {
   "cell_type": "markdown",
   "id": "40f90b47",
   "metadata": {},
   "source": [
    "Created an emply list for the columns I am interested in"
   ]
  },
  {
   "cell_type": "code",
   "execution_count": 10,
   "id": "cf197991",
   "metadata": {},
   "outputs": [],
   "source": [
    "addresses = []\n",
    "prices = []\n",
    "details =[]"
   ]
  },
  {
   "cell_type": "code",
   "execution_count": 11,
   "id": "bde27660",
   "metadata": {},
   "outputs": [],
   "source": [
    "page = 1\n",
    "while page != 370:\n",
    "    url = 'https://www.propertypro.ng/property-for-rent/house/?search=&auto=&bedroom=&min_price=&max_price=&page={page}'\n",
    "    response = requests.get(url)\n",
    "    html = response.content\n",
    "    soup = bs(html, \"lxml\")\n",
    "    for element in soup.findAll('div', attrs={'class': 'single-room-sale'}):\n",
    "        address = element.find('div', attrs={'class': 'single-room-text'})\n",
    "        price = element.find('div', attrs={'class':'n50'})\n",
    "        detail = element.find('div', attrs={'class': 'fur-areea'})\n",
    "        \n",
    "        if address and address.text:\n",
    "            addresses.append(address.text)\n",
    "        else:\n",
    "            addresses.append('No display data')\n",
    "        \n",
    "        if price and price.text:\n",
    "            prices.append(price.text)\n",
    "        else:\n",
    "            prices.append('No display data')\n",
    "        \n",
    "        if detail and detail.text:\n",
    "            details.append(detail.text)\n",
    "        else:\n",
    "            details.append('No display data')\n",
    "            \n",
    "    page = page + 1"
   ]
  },
  {
   "cell_type": "code",
   "execution_count": null,
   "id": "d112e65c",
   "metadata": {},
   "outputs": [],
   "source": [
    "addresses = []\n",
    "prices = []\n",
    "details =[]"
   ]
  },
  {
   "cell_type": "markdown",
   "id": "0163514f",
   "metadata": {},
   "source": [
    "Created a soup to extract the data, then an if statement so empty data does not return error while the scraper is parsing the site"
   ]
  },
  {
   "cell_type": "code",
   "execution_count": 12,
   "id": "b6eaf89a",
   "metadata": {
    "collapsed": true
   },
   "outputs": [
    {
     "ename": "NameError",
     "evalue": "name 'driver' is not defined",
     "output_type": "error",
     "traceback": [
      "\u001b[1;31m---------------------------------------------------------------------------\u001b[0m",
      "\u001b[1;31mNameError\u001b[0m                                 Traceback (most recent call last)",
      "\u001b[1;32m~\\AppData\\Local\\Temp/ipykernel_24732/786447507.py\u001b[0m in \u001b[0;36m<module>\u001b[1;34m\u001b[0m\n\u001b[1;32m----> 1\u001b[1;33m \u001b[0mcontent\u001b[0m \u001b[1;33m=\u001b[0m \u001b[0mdriver\u001b[0m\u001b[1;33m.\u001b[0m\u001b[0mpage_source\u001b[0m\u001b[1;33m\u001b[0m\u001b[1;33m\u001b[0m\u001b[0m\n\u001b[0m\u001b[0;32m      2\u001b[0m \u001b[0msoup\u001b[0m \u001b[1;33m=\u001b[0m \u001b[0mBeautifulSoup\u001b[0m\u001b[1;33m(\u001b[0m\u001b[0mcontent\u001b[0m\u001b[1;33m,\u001b[0m \u001b[0mfeatures\u001b[0m\u001b[1;33m=\u001b[0m\u001b[1;34m'html.parser'\u001b[0m\u001b[1;33m)\u001b[0m\u001b[1;33m\u001b[0m\u001b[1;33m\u001b[0m\u001b[0m\n\u001b[0;32m      3\u001b[0m \u001b[1;32mfor\u001b[0m \u001b[0melement\u001b[0m \u001b[1;32min\u001b[0m \u001b[0msoup\u001b[0m\u001b[1;33m.\u001b[0m\u001b[0mfindAll\u001b[0m\u001b[1;33m(\u001b[0m\u001b[1;34m'div'\u001b[0m\u001b[1;33m,\u001b[0m \u001b[0mattrs\u001b[0m\u001b[1;33m=\u001b[0m\u001b[1;33m{\u001b[0m\u001b[1;34m'class'\u001b[0m\u001b[1;33m:\u001b[0m \u001b[1;34m'single-room-sale'\u001b[0m\u001b[1;33m}\u001b[0m\u001b[1;33m)\u001b[0m\u001b[1;33m:\u001b[0m\u001b[1;33m\u001b[0m\u001b[1;33m\u001b[0m\u001b[0m\n\u001b[0;32m      4\u001b[0m     \u001b[0maddress\u001b[0m \u001b[1;33m=\u001b[0m \u001b[0melement\u001b[0m\u001b[1;33m.\u001b[0m\u001b[0mfind\u001b[0m\u001b[1;33m(\u001b[0m\u001b[1;34m'div'\u001b[0m\u001b[1;33m,\u001b[0m \u001b[0mattrs\u001b[0m\u001b[1;33m=\u001b[0m\u001b[1;33m{\u001b[0m\u001b[1;34m'class'\u001b[0m\u001b[1;33m:\u001b[0m \u001b[1;34m'single-room-text'\u001b[0m\u001b[1;33m}\u001b[0m\u001b[1;33m)\u001b[0m\u001b[1;33m\u001b[0m\u001b[1;33m\u001b[0m\u001b[0m\n\u001b[0;32m      5\u001b[0m     \u001b[0mprice\u001b[0m \u001b[1;33m=\u001b[0m \u001b[0melement\u001b[0m\u001b[1;33m.\u001b[0m\u001b[0mfind\u001b[0m\u001b[1;33m(\u001b[0m\u001b[1;34m'div'\u001b[0m\u001b[1;33m,\u001b[0m \u001b[0mattrs\u001b[0m\u001b[1;33m=\u001b[0m\u001b[1;33m{\u001b[0m\u001b[1;34m'class'\u001b[0m\u001b[1;33m:\u001b[0m\u001b[1;34m'n50'\u001b[0m\u001b[1;33m}\u001b[0m\u001b[1;33m)\u001b[0m\u001b[1;33m\u001b[0m\u001b[1;33m\u001b[0m\u001b[0m\n",
      "\u001b[1;31mNameError\u001b[0m: name 'driver' is not defined"
     ]
    }
   ],
   "source": [
    "content = driver.page_source\n",
    "soup = BeautifulSoup(content, features='html.parser')\n",
    "for element in soup.findAll('div', attrs={'class': 'single-room-sale'}):\n",
    "    address = element.find('div', attrs={'class': 'single-room-text'})\n",
    "    price = element.find('div', attrs={'class':'n50'})\n",
    "    detail = element.find('div', attrs={'class': 'fur-areea'})\n",
    "    \n",
    "    if address and address.text:\n",
    "        addresses.append(address.text)\n",
    "    else:\n",
    "        addresses.append('No display data')\n",
    "\n",
    "    if price and price.text:\n",
    "        prices.append(price.text)\n",
    "    else:\n",
    "        prices.append('No display data')\n",
    "        \n",
    "    if detail and detail.text:\n",
    "        details.append(detail.text)\n",
    "    else:\n",
    "        details.append('No display data')\n",
    "        "
   ]
  },
  {
   "cell_type": "markdown",
   "id": "317eb8c0",
   "metadata": {},
   "source": [
    "Created a dataframe with the lists generated earlier, then saved it to a file"
   ]
  },
  {
   "cell_type": "code",
   "execution_count": 17,
   "id": "cecdadac",
   "metadata": {},
   "outputs": [],
   "source": [
    "df = pd.DataFrame({'Address': addresses, 'Price': prices, 'Details': details})\n",
    "df.to_csv('listings.csv', index=False, encoding='utf-8')"
   ]
  },
  {
   "cell_type": "markdown",
   "id": "12098ca4",
   "metadata": {},
   "source": [
    "Checking the shape of the dataframe to know how much data was extracted"
   ]
  },
  {
   "cell_type": "code",
   "execution_count": 16,
   "id": "fc84c1a0",
   "metadata": {},
   "outputs": [
    {
     "data": {
      "text/plain": [
       "(8118, 3)"
      ]
     },
     "execution_count": 16,
     "metadata": {},
     "output_type": "execute_result"
    }
   ],
   "source": [
    "df.shape"
   ]
  },
  {
   "cell_type": "markdown",
   "id": "f70f8780",
   "metadata": {},
   "source": [
    "## Data Cleaning"
   ]
  },
  {
   "cell_type": "markdown",
   "id": "1a96e133",
   "metadata": {},
   "source": [
    "importing the csv file to start analysis"
   ]
  },
  {
   "cell_type": "code",
   "execution_count": 3,
   "id": "b347f5f6",
   "metadata": {},
   "outputs": [],
   "source": [
    "listings = pd.read_csv('listings.csv')"
   ]
  },
  {
   "cell_type": "code",
   "execution_count": 6,
   "id": "04b91f61",
   "metadata": {
    "scrolled": true
   },
   "outputs": [
    {
     "data": {
      "text/html": [
       "<div>\n",
       "<style scoped>\n",
       "    .dataframe tbody tr th:only-of-type {\n",
       "        vertical-align: middle;\n",
       "    }\n",
       "\n",
       "    .dataframe tbody tr th {\n",
       "        vertical-align: top;\n",
       "    }\n",
       "\n",
       "    .dataframe thead th {\n",
       "        text-align: right;\n",
       "    }\n",
       "</style>\n",
       "<table border=\"1\" class=\"dataframe\">\n",
       "  <thead>\n",
       "    <tr style=\"text-align: right;\">\n",
       "      <th></th>\n",
       "      <th>Address</th>\n",
       "      <th>Price</th>\n",
       "      <th>Details</th>\n",
       "    </tr>\n",
       "  </thead>\n",
       "  <tbody>\n",
       "    <tr>\n",
       "      <th>0</th>\n",
       "      <td>\\n 4 BEDROOM HOUSE FOR RENT \\nOld Ikoyi Ikoyi ...</td>\n",
       "      <td>\\n ₦ 14,000,000/year \\nSponsored\\n</td>\n",
       "      <td>\\n4 beds\\n4 baths\\n5 Toilets\\n</td>\n",
       "    </tr>\n",
       "    <tr>\n",
       "      <th>1</th>\n",
       "      <td>\\n 4 BEDROOM HOUSE FOR RENT \\nBanana Island Ik...</td>\n",
       "      <td>\\n ₦ 14,000,000/year \\nPremium Gold\\n</td>\n",
       "      <td>\\n4 beds\\n4 baths\\n5 Toilets\\n</td>\n",
       "    </tr>\n",
       "    <tr>\n",
       "      <th>2</th>\n",
       "      <td>\\n 3 BEDROOM HOUSE FOR RENT \\nOld Ikoyi Old Ik...</td>\n",
       "      <td>\\n ₦ 12,000,000 \\nPremium Gold\\n</td>\n",
       "      <td>\\n3 beds\\n3 baths\\n4 Toilets\\n</td>\n",
       "    </tr>\n",
       "    <tr>\n",
       "      <th>3</th>\n",
       "      <td>\\n 2 BEDROOM HOUSE FOR RENT \\nAmerican Interna...</td>\n",
       "      <td>\\n ₦ 2,000,000/year \\nPremium Gold\\n</td>\n",
       "      <td>\\n2 beds\\n2 baths\\n3 Toilets\\n</td>\n",
       "    </tr>\n",
       "    <tr>\n",
       "      <th>4</th>\n",
       "      <td>\\n 4 BEDROOM HOUSE FOR RENT \\nKolapo Ishola Gr...</td>\n",
       "      <td>\\n ₦ 2,500,000/year \\nPremium Gold\\n</td>\n",
       "      <td>\\n4 beds\\n4 baths\\n5 Toilets\\n</td>\n",
       "    </tr>\n",
       "  </tbody>\n",
       "</table>\n",
       "</div>"
      ],
      "text/plain": [
       "                                             Address  \\\n",
       "0  \\n 4 BEDROOM HOUSE FOR RENT \\nOld Ikoyi Ikoyi ...   \n",
       "1  \\n 4 BEDROOM HOUSE FOR RENT \\nBanana Island Ik...   \n",
       "2  \\n 3 BEDROOM HOUSE FOR RENT \\nOld Ikoyi Old Ik...   \n",
       "3  \\n 2 BEDROOM HOUSE FOR RENT \\nAmerican Interna...   \n",
       "4  \\n 4 BEDROOM HOUSE FOR RENT \\nKolapo Ishola Gr...   \n",
       "\n",
       "                                   Price                         Details  \n",
       "0     \\n ₦ 14,000,000/year \\nSponsored\\n  \\n4 beds\\n4 baths\\n5 Toilets\\n  \n",
       "1  \\n ₦ 14,000,000/year \\nPremium Gold\\n  \\n4 beds\\n4 baths\\n5 Toilets\\n  \n",
       "2       \\n ₦ 12,000,000 \\nPremium Gold\\n  \\n3 beds\\n3 baths\\n4 Toilets\\n  \n",
       "3   \\n ₦ 2,000,000/year \\nPremium Gold\\n  \\n2 beds\\n2 baths\\n3 Toilets\\n  \n",
       "4   \\n ₦ 2,500,000/year \\nPremium Gold\\n  \\n4 beds\\n4 baths\\n5 Toilets\\n  "
      ]
     },
     "execution_count": 6,
     "metadata": {},
     "output_type": "execute_result"
    }
   ],
   "source": [
    "listings.head()"
   ]
  },
  {
   "cell_type": "code",
   "execution_count": 9,
   "id": "644c3911",
   "metadata": {},
   "outputs": [
    {
     "data": {
      "text/plain": [
       "0       \\n 4 BEDROOM HOUSE FOR RENT \\nOld Ikoyi Ikoyi ...\n",
       "1       \\n 4 BEDROOM HOUSE FOR RENT \\nBanana Island Ik...\n",
       "2       \\n 3 BEDROOM HOUSE FOR RENT \\nOld Ikoyi Old Ik...\n",
       "3       \\n 2 BEDROOM HOUSE FOR RENT \\nAmerican Interna...\n",
       "4       \\n 4 BEDROOM HOUSE FOR RENT \\nKolapo Ishola Gr...\n",
       "                              ...                        \n",
       "8113    \\n 4 BEDROOM HOUSE FOR RENT \\nOsapa London Lek...\n",
       "8114    \\n 4 BEDROOM HOUSE FOR RENT \\nAjah Lagos\\n\\n ₦...\n",
       "8115    \\n 5 BEDROOM HOUSE FOR RENT \\nIkota Lekki Lago...\n",
       "8116    \\n 4 BEDROOM HOUSE FOR RENT \\nLekki Lagos\\n\\n ...\n",
       "8117    \\n 4 BEDROOM HOUSE FOR RENT \\nLekki Phase 1 Le...\n",
       "Name: Address, Length: 8118, dtype: object"
      ]
     },
     "execution_count": 9,
     "metadata": {},
     "output_type": "execute_result"
    }
   ],
   "source": [
    "listings['Address']"
   ]
  },
  {
   "cell_type": "code",
   "execution_count": null,
   "id": "fbcc8717",
   "metadata": {},
   "outputs": [],
   "source": []
  }
 ],
 "metadata": {
  "kernelspec": {
   "display_name": "Python 3 (ipykernel)",
   "language": "python",
   "name": "python3"
  },
  "language_info": {
   "codemirror_mode": {
    "name": "ipython",
    "version": 3
   },
   "file_extension": ".py",
   "mimetype": "text/x-python",
   "name": "python",
   "nbconvert_exporter": "python",
   "pygments_lexer": "ipython3",
   "version": "3.9.7"
  }
 },
 "nbformat": 4,
 "nbformat_minor": 5
}
