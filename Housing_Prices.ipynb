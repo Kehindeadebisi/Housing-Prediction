{
 "cells": [
  {
   "cell_type": "markdown",
   "id": "92dae533",
   "metadata": {},
   "source": [
    "# SheCodeAfrica Advanced Machine Learning Project\n",
    "\n",
    "## Prediction of Rent Prices for Houses in Nigeria\n",
    "\n",
    "The aim of this project is to\n",
    "- Extract data from a Nigerian property website(Site used was propertypro.ng)\n",
    "- Clean, Preprocess and Analyse the data extracted\n",
    "- Build a machine learning model that predicts house rent price based on some details specifically location, price, number of rooms and bathrooms\n",
    "- Deploy to a web app using flask"
   ]
  },
  {
   "cell_type": "markdown",
   "id": "64baaf34",
   "metadata": {},
   "source": [
    "## Web Scraping"
   ]
  },
  {
   "cell_type": "markdown",
   "id": "b58db08e",
   "metadata": {},
   "source": [
    "importing the needed libraries"
   ]
  },
  {
   "cell_type": "code",
   "execution_count": 2,
   "id": "2d96b12e",
   "metadata": {},
   "outputs": [],
   "source": [
    "from selenium import webdriver\n",
    "from bs4 import BeautifulSoup as bs\n",
    "import pandas as pd\n",
    "import numpy as np\n",
    "import seaborn as sns\n",
    "import matplotlib.pyplot as plt\n",
    "import requests\n",
    "from sklearn.linear_model import LinearRegression\n",
    "from sklearn.model_selection import train_test_split\n",
    "import statsmodels.api as stats\n",
    "from sklearn.svm import SVC\n",
    "import pickle\n",
    "import warnings\n",
    "warnings.filterwarnings(\"ignore\")"
   ]
  },
  {
   "cell_type": "code",
   "execution_count": 109,
   "id": "8f870c54",
   "metadata": {
    "collapsed": true
   },
   "outputs": [
    {
     "name": "stderr",
     "output_type": "stream",
     "text": [
      "C:\\Users\\PC\\AppData\\Local\\Temp/ipykernel_5760/687817639.py:2: DeprecationWarning: executable_path has been deprecated, please pass in a Service object\n",
      "  driver=webdriver.Chrome('C:/User/PC/Downloads/chromedriver_win32.exe')\n"
     ]
    }
   ],
   "source": [
    "#Creating a driver\n",
    "driver=webdriver.Chrome('C:/User/PC/Downloads/chromedriver_win32.exe')"
   ]
  },
  {
   "cell_type": "markdown",
   "id": "4b450974",
   "metadata": {},
   "source": [
    "There are multiple pages, about 370 so I created a while loop to make it easier extract data from all 370 at once"
   ]
  },
  {
   "cell_type": "code",
   "execution_count": 110,
   "id": "9a7b3407",
   "metadata": {
    "collapsed": true
   },
   "outputs": [
    {
     "ename": "NoSuchWindowException",
     "evalue": "Message: no such window: target window already closed\nfrom unknown error: web view not found\n  (Session info: chrome=108.0.5359.125)\nStacktrace:\nBacktrace:\n\t(No symbol) [0x00F8F243]\n\t(No symbol) [0x00F17FD1]\n\t(No symbol) [0x00E0D04D]\n\t(No symbol) [0x00DF2D7A]\n\t(No symbol) [0x00E5BE7B]\n\t(No symbol) [0x00E6C196]\n\t(No symbol) [0x00E58386]\n\t(No symbol) [0x00E3163C]\n\t(No symbol) [0x00E3269D]\n\tGetHandleVerifier [0x01229A22+2655074]\n\tGetHandleVerifier [0x0121CA24+2601828]\n\tGetHandleVerifier [0x01038C0A+619850]\n\tGetHandleVerifier [0x01037830+614768]\n\t(No symbol) [0x00F205FC]\n\t(No symbol) [0x00F25968]\n\t(No symbol) [0x00F25A55]\n\t(No symbol) [0x00F3051B]\n\tBaseThreadInitThunk [0x767C00F9+25]\n\tRtlGetAppContainerNamedObjectPath [0x77B97BBE+286]\n\tRtlGetAppContainerNamedObjectPath [0x77B97B8E+238]\n",
     "output_type": "error",
     "traceback": [
      "\u001b[1;31m---------------------------------------------------------------------------\u001b[0m",
      "\u001b[1;31mNoSuchWindowException\u001b[0m                     Traceback (most recent call last)",
      "\u001b[1;32m~\\AppData\\Local\\Temp/ipykernel_5760/1530365674.py\u001b[0m in \u001b[0;36m<module>\u001b[1;34m\u001b[0m\n\u001b[0;32m      2\u001b[0m \u001b[1;32mwhile\u001b[0m \u001b[0mpage\u001b[0m \u001b[1;33m!=\u001b[0m \u001b[1;36m370\u001b[0m\u001b[1;33m:\u001b[0m\u001b[1;33m\u001b[0m\u001b[1;33m\u001b[0m\u001b[0m\n\u001b[0;32m      3\u001b[0m     \u001b[0murl\u001b[0m \u001b[1;33m=\u001b[0m \u001b[1;34m'https://www.propertypro.ng/property-for-rent/house/?search=&auto=&bedroom=&min_price=&max_price=&page={page}'\u001b[0m\u001b[1;33m\u001b[0m\u001b[1;33m\u001b[0m\u001b[0m\n\u001b[1;32m----> 4\u001b[1;33m     \u001b[0mdriver\u001b[0m\u001b[1;33m.\u001b[0m\u001b[0mget\u001b[0m\u001b[1;33m(\u001b[0m\u001b[0murl\u001b[0m\u001b[1;33m)\u001b[0m\u001b[1;33m\u001b[0m\u001b[1;33m\u001b[0m\u001b[0m\n\u001b[0m\u001b[0;32m      5\u001b[0m     \u001b[0mpage\u001b[0m \u001b[1;33m=\u001b[0m \u001b[0mpage\u001b[0m \u001b[1;33m+\u001b[0m \u001b[1;36m1\u001b[0m\u001b[1;33m\u001b[0m\u001b[1;33m\u001b[0m\u001b[0m\n",
      "\u001b[1;32m~\\anaconda3\\lib\\site-packages\\selenium\\webdriver\\remote\\webdriver.py\u001b[0m in \u001b[0;36mget\u001b[1;34m(self, url)\u001b[0m\n\u001b[0;32m    453\u001b[0m         \u001b[0mLoads\u001b[0m \u001b[0ma\u001b[0m \u001b[0mweb\u001b[0m \u001b[0mpage\u001b[0m \u001b[1;32min\u001b[0m \u001b[0mthe\u001b[0m \u001b[0mcurrent\u001b[0m \u001b[0mbrowser\u001b[0m \u001b[0msession\u001b[0m\u001b[1;33m.\u001b[0m\u001b[1;33m\u001b[0m\u001b[1;33m\u001b[0m\u001b[0m\n\u001b[0;32m    454\u001b[0m         \"\"\"\n\u001b[1;32m--> 455\u001b[1;33m         \u001b[0mself\u001b[0m\u001b[1;33m.\u001b[0m\u001b[0mexecute\u001b[0m\u001b[1;33m(\u001b[0m\u001b[0mCommand\u001b[0m\u001b[1;33m.\u001b[0m\u001b[0mGET\u001b[0m\u001b[1;33m,\u001b[0m \u001b[1;33m{\u001b[0m\u001b[1;34m\"url\"\u001b[0m\u001b[1;33m:\u001b[0m \u001b[0murl\u001b[0m\u001b[1;33m}\u001b[0m\u001b[1;33m)\u001b[0m\u001b[1;33m\u001b[0m\u001b[1;33m\u001b[0m\u001b[0m\n\u001b[0m\u001b[0;32m    456\u001b[0m \u001b[1;33m\u001b[0m\u001b[0m\n\u001b[0;32m    457\u001b[0m     \u001b[1;33m@\u001b[0m\u001b[0mproperty\u001b[0m\u001b[1;33m\u001b[0m\u001b[1;33m\u001b[0m\u001b[0m\n",
      "\u001b[1;32m~\\anaconda3\\lib\\site-packages\\selenium\\webdriver\\remote\\webdriver.py\u001b[0m in \u001b[0;36mexecute\u001b[1;34m(self, driver_command, params)\u001b[0m\n\u001b[0;32m    442\u001b[0m         \u001b[0mresponse\u001b[0m \u001b[1;33m=\u001b[0m \u001b[0mself\u001b[0m\u001b[1;33m.\u001b[0m\u001b[0mcommand_executor\u001b[0m\u001b[1;33m.\u001b[0m\u001b[0mexecute\u001b[0m\u001b[1;33m(\u001b[0m\u001b[0mdriver_command\u001b[0m\u001b[1;33m,\u001b[0m \u001b[0mparams\u001b[0m\u001b[1;33m)\u001b[0m\u001b[1;33m\u001b[0m\u001b[1;33m\u001b[0m\u001b[0m\n\u001b[0;32m    443\u001b[0m         \u001b[1;32mif\u001b[0m \u001b[0mresponse\u001b[0m\u001b[1;33m:\u001b[0m\u001b[1;33m\u001b[0m\u001b[1;33m\u001b[0m\u001b[0m\n\u001b[1;32m--> 444\u001b[1;33m             \u001b[0mself\u001b[0m\u001b[1;33m.\u001b[0m\u001b[0merror_handler\u001b[0m\u001b[1;33m.\u001b[0m\u001b[0mcheck_response\u001b[0m\u001b[1;33m(\u001b[0m\u001b[0mresponse\u001b[0m\u001b[1;33m)\u001b[0m\u001b[1;33m\u001b[0m\u001b[1;33m\u001b[0m\u001b[0m\n\u001b[0m\u001b[0;32m    445\u001b[0m             \u001b[0mresponse\u001b[0m\u001b[1;33m[\u001b[0m\u001b[1;34m\"value\"\u001b[0m\u001b[1;33m]\u001b[0m \u001b[1;33m=\u001b[0m \u001b[0mself\u001b[0m\u001b[1;33m.\u001b[0m\u001b[0m_unwrap_value\u001b[0m\u001b[1;33m(\u001b[0m\u001b[0mresponse\u001b[0m\u001b[1;33m.\u001b[0m\u001b[0mget\u001b[0m\u001b[1;33m(\u001b[0m\u001b[1;34m\"value\"\u001b[0m\u001b[1;33m,\u001b[0m \u001b[1;32mNone\u001b[0m\u001b[1;33m)\u001b[0m\u001b[1;33m)\u001b[0m\u001b[1;33m\u001b[0m\u001b[1;33m\u001b[0m\u001b[0m\n\u001b[0;32m    446\u001b[0m             \u001b[1;32mreturn\u001b[0m \u001b[0mresponse\u001b[0m\u001b[1;33m\u001b[0m\u001b[1;33m\u001b[0m\u001b[0m\n",
      "\u001b[1;32m~\\anaconda3\\lib\\site-packages\\selenium\\webdriver\\remote\\errorhandler.py\u001b[0m in \u001b[0;36mcheck_response\u001b[1;34m(self, response)\u001b[0m\n\u001b[0;32m    247\u001b[0m                 \u001b[0malert_text\u001b[0m \u001b[1;33m=\u001b[0m \u001b[0mvalue\u001b[0m\u001b[1;33m[\u001b[0m\u001b[1;34m\"alert\"\u001b[0m\u001b[1;33m]\u001b[0m\u001b[1;33m.\u001b[0m\u001b[0mget\u001b[0m\u001b[1;33m(\u001b[0m\u001b[1;34m\"text\"\u001b[0m\u001b[1;33m)\u001b[0m\u001b[1;33m\u001b[0m\u001b[1;33m\u001b[0m\u001b[0m\n\u001b[0;32m    248\u001b[0m             \u001b[1;32mraise\u001b[0m \u001b[0mexception_class\u001b[0m\u001b[1;33m(\u001b[0m\u001b[0mmessage\u001b[0m\u001b[1;33m,\u001b[0m \u001b[0mscreen\u001b[0m\u001b[1;33m,\u001b[0m \u001b[0mstacktrace\u001b[0m\u001b[1;33m,\u001b[0m \u001b[0malert_text\u001b[0m\u001b[1;33m)\u001b[0m  \u001b[1;31m# type: ignore[call-arg]  # mypy is not smart enough here\u001b[0m\u001b[1;33m\u001b[0m\u001b[1;33m\u001b[0m\u001b[0m\n\u001b[1;32m--> 249\u001b[1;33m         \u001b[1;32mraise\u001b[0m \u001b[0mexception_class\u001b[0m\u001b[1;33m(\u001b[0m\u001b[0mmessage\u001b[0m\u001b[1;33m,\u001b[0m \u001b[0mscreen\u001b[0m\u001b[1;33m,\u001b[0m \u001b[0mstacktrace\u001b[0m\u001b[1;33m)\u001b[0m\u001b[1;33m\u001b[0m\u001b[1;33m\u001b[0m\u001b[0m\n\u001b[0m",
      "\u001b[1;31mNoSuchWindowException\u001b[0m: Message: no such window: target window already closed\nfrom unknown error: web view not found\n  (Session info: chrome=108.0.5359.125)\nStacktrace:\nBacktrace:\n\t(No symbol) [0x00F8F243]\n\t(No symbol) [0x00F17FD1]\n\t(No symbol) [0x00E0D04D]\n\t(No symbol) [0x00DF2D7A]\n\t(No symbol) [0x00E5BE7B]\n\t(No symbol) [0x00E6C196]\n\t(No symbol) [0x00E58386]\n\t(No symbol) [0x00E3163C]\n\t(No symbol) [0x00E3269D]\n\tGetHandleVerifier [0x01229A22+2655074]\n\tGetHandleVerifier [0x0121CA24+2601828]\n\tGetHandleVerifier [0x01038C0A+619850]\n\tGetHandleVerifier [0x01037830+614768]\n\t(No symbol) [0x00F205FC]\n\t(No symbol) [0x00F25968]\n\t(No symbol) [0x00F25A55]\n\t(No symbol) [0x00F3051B]\n\tBaseThreadInitThunk [0x767C00F9+25]\n\tRtlGetAppContainerNamedObjectPath [0x77B97BBE+286]\n\tRtlGetAppContainerNamedObjectPath [0x77B97B8E+238]\n"
     ]
    }
   ],
   "source": [
    "page = 1\n",
    "while page != 370:\n",
    "    url = 'https://www.propertypro.ng/property-for-rent/house/?search=&auto=&bedroom=&min_price=&max_price=&page={page}'\n",
    "    driver.get(url)\n",
    "    page = page + 1"
   ]
  },
  {
   "cell_type": "markdown",
   "id": "40f90b47",
   "metadata": {},
   "source": [
    "Created an emply list for the columns I am interested in"
   ]
  },
  {
   "cell_type": "code",
   "execution_count": null,
   "id": "cf197991",
   "metadata": {},
   "outputs": [],
   "source": [
    "addresses = []\n",
    "prices = []\n",
    "details =[]"
   ]
  },
  {
   "cell_type": "code",
   "execution_count": null,
   "id": "bde27660",
   "metadata": {},
   "outputs": [],
   "source": [
    "page = 1\n",
    "while page != 370:\n",
    "    url = 'https://www.propertypro.ng/property-for-rent/house/?search=&auto=&bedroom=&min_price=&max_price=&page={page}'\n",
    "    response = requests.get(url)\n",
    "    html = response.content\n",
    "    soup = bs(html, \"lxml\")\n",
    "    for element in soup.findAll('div', attrs={'class': 'single-room-sale'}):\n",
    "        address = element.find('div', attrs={'class': 'single-room-text'})\n",
    "        price = element.find('div', attrs={'class':'n50'})\n",
    "        detail = element.find('div', attrs={'class': 'fur-areea'})\n",
    "        \n",
    "        if address and address.text:\n",
    "            addresses.append(address.text)\n",
    "        else:\n",
    "            addresses.append('No display data')\n",
    "        \n",
    "        if price and price.text:\n",
    "            prices.append(price.text)\n",
    "        else:\n",
    "            prices.append('No display data')\n",
    "        \n",
    "        if detail and detail.text:\n",
    "            details.append(detail.text)\n",
    "        else:\n",
    "            details.append('No display data')\n",
    "            \n",
    "    page = page + 1"
   ]
  },
  {
   "cell_type": "code",
   "execution_count": null,
   "id": "d112e65c",
   "metadata": {},
   "outputs": [],
   "source": [
    "addresses = []\n",
    "prices = []\n",
    "details =[]"
   ]
  },
  {
   "cell_type": "markdown",
   "id": "0163514f",
   "metadata": {},
   "source": [
    "Created a soup to extract the data, then an if statement so empty data does not return error while the scraper is parsing the site"
   ]
  },
  {
   "cell_type": "code",
   "execution_count": null,
   "id": "b6eaf89a",
   "metadata": {},
   "outputs": [],
   "source": [
    "content = driver.page_source\n",
    "soup = BeautifulSoup(content, features='html.parser')\n",
    "for element in soup.findAll('div', attrs={'class': 'single-room-sale'}):\n",
    "    address = element.find('div', attrs={'class': 'single-room-text'})\n",
    "    price = element.find('div', attrs={'class':'n50'})\n",
    "    detail = element.find('div', attrs={'class': 'fur-areea'})\n",
    "    \n",
    "    if address and address.text:\n",
    "        addresses.append(address.text)\n",
    "    else:\n",
    "        addresses.append('No display data')\n",
    "\n",
    "    if price and price.text:\n",
    "        prices.append(price.text)\n",
    "    else:\n",
    "        prices.append('No display data')\n",
    "        \n",
    "    if detail and detail.text:\n",
    "        details.append(detail.text)\n",
    "    else:\n",
    "        details.append('No display data')\n",
    "        "
   ]
  },
  {
   "cell_type": "markdown",
   "id": "317eb8c0",
   "metadata": {},
   "source": [
    "Created a dataframe with the lists generated earlier, then saved it to a file"
   ]
  },
  {
   "cell_type": "code",
   "execution_count": null,
   "id": "cecdadac",
   "metadata": {},
   "outputs": [],
   "source": [
    "df = pd.DataFrame({'Address': addresses, 'Price': prices, 'Details': details})\n",
    "df.to_csv('listings.csv', index=False, encoding='utf-8')"
   ]
  },
  {
   "cell_type": "markdown",
   "id": "12098ca4",
   "metadata": {},
   "source": [
    "Checking the shape of the dataframe to know how much data was extracted"
   ]
  },
  {
   "cell_type": "code",
   "execution_count": null,
   "id": "fc84c1a0",
   "metadata": {},
   "outputs": [],
   "source": [
    "df.shape"
   ]
  },
  {
   "cell_type": "markdown",
   "id": "f70f8780",
   "metadata": {},
   "source": [
    "## Data Cleaning"
   ]
  },
  {
   "cell_type": "markdown",
   "id": "1a96e133",
   "metadata": {},
   "source": [
    "importing the csv file to start analysis"
   ]
  },
  {
   "cell_type": "code",
   "execution_count": null,
   "id": "b347f5f6",
   "metadata": {},
   "outputs": [],
   "source": [
    "listings = pd.read_csv('listings.csv')"
   ]
  },
  {
   "cell_type": "code",
   "execution_count": null,
   "id": "04b91f61",
   "metadata": {
    "scrolled": true
   },
   "outputs": [],
   "source": [
    "listings.head()"
   ]
  },
  {
   "cell_type": "markdown",
   "id": "2f252cb6",
   "metadata": {},
   "source": [
    "Stripping to just town and state"
   ]
  },
  {
   "cell_type": "code",
   "execution_count": null,
   "id": "644c3911",
   "metadata": {},
   "outputs": [],
   "source": [
    "listings['State']=listings['Address'].str[25:40]"
   ]
  },
  {
   "cell_type": "code",
   "execution_count": null,
   "id": "fbcc8717",
   "metadata": {},
   "outputs": [],
   "source": [
    "listings.head()"
   ]
  },
  {
   "cell_type": "markdown",
   "id": "b4a34a76",
   "metadata": {},
   "source": [
    "I realised, while cleaning, the extreme lack of uniformity in the way the Address was written and found no alternative for segregating location on the website or through code due to the large number and difference in entries.\n",
    "\n",
    "Also, Over 40%  of the data from the site are on a particular town in a state - Lekki Lagos, Nigeria. The remaining 60% shared by hundreds of towns in 20 states, resulting in a skewed data. \n",
    "\n",
    "I decided to remove the  Address column. However, considering the importance of location on house rent prices and the wide variability between house prices in different locations especially since the data scraped is of 20 states in Nigeria.\n",
    "\n",
    "To solve these, I decided to scrape only the data from a particular town and state, thereby removing the effect of variability in location since all the house prices will be from that location.\n",
    "\n",
    "I choosed the location with the highest number of entries. As a result, the model will predict house prices in Lekki, Lagos, Nigeria"
   ]
  },
  {
   "cell_type": "markdown",
   "id": "1429d26e",
   "metadata": {},
   "source": [
    "### Scraping data for house rent prices in Lekki Lagos, Nigeria"
   ]
  },
  {
   "cell_type": "markdown",
   "id": "83be57f7",
   "metadata": {},
   "source": [
    "Creating a while loop to extract the 142 pages of data"
   ]
  },
  {
   "cell_type": "code",
   "execution_count": null,
   "id": "aef6ddb0",
   "metadata": {},
   "outputs": [],
   "source": [
    "amount = []\n",
    "qualities =[]"
   ]
  },
  {
   "cell_type": "code",
   "execution_count": null,
   "id": "02de7052",
   "metadata": {},
   "outputs": [],
   "source": [
    "page = 1\n",
    "while page != 142:\n",
    "    url = 'https://www.propertypro.ng/property-for-rent/house/in/lagos/lekki?page={page}'\n",
    "    response = requests.get(url)\n",
    "    html = response.content\n",
    "    soup = bs(html, \"lxml\")\n",
    "    for element in soup.findAll('div', attrs={'class': 'single-room-sale'}):\n",
    "        price = element.find('div', attrs={'class':'n50'})\n",
    "        detail = element.find('div', attrs={'class': 'fur-areea'})\n",
    "        \n",
    "        if price and price.text:\n",
    "            amount.append(price.text)\n",
    "        else:\n",
    "            amount.append('NaN')\n",
    "        \n",
    "        if detail and detail.text:\n",
    "            qualities.append(detail.text)\n",
    "        else:\n",
    "            qualities.append('NaN')\n",
    "            \n",
    "    page = page + 1"
   ]
  },
  {
   "cell_type": "markdown",
   "id": "41d0477e",
   "metadata": {},
   "source": [
    "Created a dataframe with the lists generated earlier, then saved it to a file"
   ]
  },
  {
   "cell_type": "code",
   "execution_count": null,
   "id": "052c0e0e",
   "metadata": {},
   "outputs": [],
   "source": [
    "df2 = pd.DataFrame({'Price': amount, 'Details': qualities})"
   ]
  },
  {
   "cell_type": "code",
   "execution_count": null,
   "id": "387d5e0f",
   "metadata": {},
   "outputs": [],
   "source": [
    "df2.to_csv('lagos-listing.csv', index=False, encoding='utf-8')"
   ]
  },
  {
   "cell_type": "markdown",
   "id": "73884d31",
   "metadata": {},
   "source": [
    "Checking the shape of the dataframe to know how much data was extracted"
   ]
  },
  {
   "cell_type": "code",
   "execution_count": null,
   "id": "1cbaf43b",
   "metadata": {},
   "outputs": [],
   "source": [
    "df2.shape"
   ]
  },
  {
   "cell_type": "code",
   "execution_count": null,
   "id": "33aaff0a",
   "metadata": {},
   "outputs": [],
   "source": [
    "df2.head()"
   ]
  },
  {
   "cell_type": "code",
   "execution_count": 735,
   "id": "a4da791a",
   "metadata": {},
   "outputs": [],
   "source": [
    "listing=pd.read_csv('lagos-listing.csv')"
   ]
  },
  {
   "cell_type": "code",
   "execution_count": 736,
   "id": "799b9e2e",
   "metadata": {},
   "outputs": [
    {
     "data": {
      "text/html": [
       "<div>\n",
       "<style scoped>\n",
       "    .dataframe tbody tr th:only-of-type {\n",
       "        vertical-align: middle;\n",
       "    }\n",
       "\n",
       "    .dataframe tbody tr th {\n",
       "        vertical-align: top;\n",
       "    }\n",
       "\n",
       "    .dataframe thead th {\n",
       "        text-align: right;\n",
       "    }\n",
       "</style>\n",
       "<table border=\"1\" class=\"dataframe\">\n",
       "  <thead>\n",
       "    <tr style=\"text-align: right;\">\n",
       "      <th></th>\n",
       "      <th>Price</th>\n",
       "      <th>Details</th>\n",
       "    </tr>\n",
       "  </thead>\n",
       "  <tbody>\n",
       "    <tr>\n",
       "      <th>0</th>\n",
       "      <td>\\n ₦ 4,000,000/year \\nSponsored\\n</td>\n",
       "      <td>\\n4 beds\\n4 baths\\n5 Toilets\\n</td>\n",
       "    </tr>\n",
       "    <tr>\n",
       "      <th>1</th>\n",
       "      <td>\\n ₦ 5,000,000 \\nPremium Gold\\n</td>\n",
       "      <td>\\n4 beds\\n4 baths\\n5 Toilets\\n</td>\n",
       "    </tr>\n",
       "    <tr>\n",
       "      <th>2</th>\n",
       "      <td>\\n ₦ 7,500,000 \\nPremium Gold\\n</td>\n",
       "      <td>\\n5 beds\\n5 baths\\n6 Toilets\\n</td>\n",
       "    </tr>\n",
       "    <tr>\n",
       "      <th>3</th>\n",
       "      <td>\\n ₦ 7,000,000 \\nPremium Gold\\n</td>\n",
       "      <td>\\n5 beds\\n5 baths\\n6 Toilets\\n</td>\n",
       "    </tr>\n",
       "    <tr>\n",
       "      <th>4</th>\n",
       "      <td>\\n ₦ 2,700,000 \\nPremium Gold\\n</td>\n",
       "      <td>\\n2 beds\\n2 baths\\n3 Toilets\\n</td>\n",
       "    </tr>\n",
       "  </tbody>\n",
       "</table>\n",
       "</div>"
      ],
      "text/plain": [
       "                               Price                         Details\n",
       "0  \\n ₦ 4,000,000/year \\nSponsored\\n  \\n4 beds\\n4 baths\\n5 Toilets\\n\n",
       "1    \\n ₦ 5,000,000 \\nPremium Gold\\n  \\n4 beds\\n4 baths\\n5 Toilets\\n\n",
       "2    \\n ₦ 7,500,000 \\nPremium Gold\\n  \\n5 beds\\n5 baths\\n6 Toilets\\n\n",
       "3    \\n ₦ 7,000,000 \\nPremium Gold\\n  \\n5 beds\\n5 baths\\n6 Toilets\\n\n",
       "4    \\n ₦ 2,700,000 \\nPremium Gold\\n  \\n2 beds\\n2 baths\\n3 Toilets\\n"
      ]
     },
     "execution_count": 736,
     "metadata": {},
     "output_type": "execute_result"
    }
   ],
   "source": [
    "listing.head()"
   ]
  },
  {
   "cell_type": "code",
   "execution_count": 737,
   "id": "04a4b295",
   "metadata": {},
   "outputs": [],
   "source": [
    "listing['Price']=listing['Price'].str.strip()"
   ]
  },
  {
   "cell_type": "code",
   "execution_count": 738,
   "id": "f912c9ed",
   "metadata": {},
   "outputs": [],
   "source": [
    "listing['Price']=listing['Price'].str.strip('₦')"
   ]
  },
  {
   "cell_type": "code",
   "execution_count": 739,
   "id": "494b6014",
   "metadata": {},
   "outputs": [],
   "source": [
    "listing['Price']=listing['Price'].str.split(' ').str[1]"
   ]
  },
  {
   "cell_type": "code",
   "execution_count": 740,
   "id": "2ff2fe0e",
   "metadata": {},
   "outputs": [],
   "source": [
    "listing['Price']=listing['Price'].str.replace(',','')\n",
    "listing['Price']=listing['Price'].str.strip('/year')\n",
    "listing['Price']=listing['Price'].str.strip('/sqm')"
   ]
  },
  {
   "cell_type": "code",
   "execution_count": 741,
   "id": "e2acb865",
   "metadata": {},
   "outputs": [
    {
     "data": {
      "text/html": [
       "<div>\n",
       "<style scoped>\n",
       "    .dataframe tbody tr th:only-of-type {\n",
       "        vertical-align: middle;\n",
       "    }\n",
       "\n",
       "    .dataframe tbody tr th {\n",
       "        vertical-align: top;\n",
       "    }\n",
       "\n",
       "    .dataframe thead th {\n",
       "        text-align: right;\n",
       "    }\n",
       "</style>\n",
       "<table border=\"1\" class=\"dataframe\">\n",
       "  <thead>\n",
       "    <tr style=\"text-align: right;\">\n",
       "      <th></th>\n",
       "      <th>Price</th>\n",
       "      <th>Details</th>\n",
       "    </tr>\n",
       "  </thead>\n",
       "  <tbody>\n",
       "    <tr>\n",
       "      <th>0</th>\n",
       "      <td>4000000</td>\n",
       "      <td>\\n4 beds\\n4 baths\\n5 Toilets\\n</td>\n",
       "    </tr>\n",
       "    <tr>\n",
       "      <th>1</th>\n",
       "      <td>5000000</td>\n",
       "      <td>\\n4 beds\\n4 baths\\n5 Toilets\\n</td>\n",
       "    </tr>\n",
       "    <tr>\n",
       "      <th>2</th>\n",
       "      <td>7500000</td>\n",
       "      <td>\\n5 beds\\n5 baths\\n6 Toilets\\n</td>\n",
       "    </tr>\n",
       "    <tr>\n",
       "      <th>3</th>\n",
       "      <td>7000000</td>\n",
       "      <td>\\n5 beds\\n5 baths\\n6 Toilets\\n</td>\n",
       "    </tr>\n",
       "    <tr>\n",
       "      <th>4</th>\n",
       "      <td>2700000</td>\n",
       "      <td>\\n2 beds\\n2 baths\\n3 Toilets\\n</td>\n",
       "    </tr>\n",
       "  </tbody>\n",
       "</table>\n",
       "</div>"
      ],
      "text/plain": [
       "     Price                         Details\n",
       "0  4000000  \\n4 beds\\n4 baths\\n5 Toilets\\n\n",
       "1  5000000  \\n4 beds\\n4 baths\\n5 Toilets\\n\n",
       "2  7500000  \\n5 beds\\n5 baths\\n6 Toilets\\n\n",
       "3  7000000  \\n5 beds\\n5 baths\\n6 Toilets\\n\n",
       "4  2700000  \\n2 beds\\n2 baths\\n3 Toilets\\n"
      ]
     },
     "execution_count": 741,
     "metadata": {},
     "output_type": "execute_result"
    }
   ],
   "source": [
    "listing.head()"
   ]
  },
  {
   "cell_type": "code",
   "execution_count": 742,
   "id": "1cd5d7b4",
   "metadata": {},
   "outputs": [],
   "source": [
    "listing['Beds']=listing['Details'].str[1]\n",
    "listing['Baths']=listing['Details'].str[8]\n",
    "listing['Toilets']=listing['Details'].str[16]"
   ]
  },
  {
   "cell_type": "code",
   "execution_count": 743,
   "id": "8191a5cc",
   "metadata": {},
   "outputs": [
    {
     "data": {
      "text/html": [
       "<div>\n",
       "<style scoped>\n",
       "    .dataframe tbody tr th:only-of-type {\n",
       "        vertical-align: middle;\n",
       "    }\n",
       "\n",
       "    .dataframe tbody tr th {\n",
       "        vertical-align: top;\n",
       "    }\n",
       "\n",
       "    .dataframe thead th {\n",
       "        text-align: right;\n",
       "    }\n",
       "</style>\n",
       "<table border=\"1\" class=\"dataframe\">\n",
       "  <thead>\n",
       "    <tr style=\"text-align: right;\">\n",
       "      <th></th>\n",
       "      <th>Price</th>\n",
       "      <th>Details</th>\n",
       "      <th>Beds</th>\n",
       "      <th>Baths</th>\n",
       "      <th>Toilets</th>\n",
       "    </tr>\n",
       "  </thead>\n",
       "  <tbody>\n",
       "    <tr>\n",
       "      <th>0</th>\n",
       "      <td>4000000</td>\n",
       "      <td>\\n4 beds\\n4 baths\\n5 Toilets\\n</td>\n",
       "      <td>4</td>\n",
       "      <td>4</td>\n",
       "      <td>5</td>\n",
       "    </tr>\n",
       "    <tr>\n",
       "      <th>1</th>\n",
       "      <td>5000000</td>\n",
       "      <td>\\n4 beds\\n4 baths\\n5 Toilets\\n</td>\n",
       "      <td>4</td>\n",
       "      <td>4</td>\n",
       "      <td>5</td>\n",
       "    </tr>\n",
       "    <tr>\n",
       "      <th>2</th>\n",
       "      <td>7500000</td>\n",
       "      <td>\\n5 beds\\n5 baths\\n6 Toilets\\n</td>\n",
       "      <td>5</td>\n",
       "      <td>5</td>\n",
       "      <td>6</td>\n",
       "    </tr>\n",
       "    <tr>\n",
       "      <th>3</th>\n",
       "      <td>7000000</td>\n",
       "      <td>\\n5 beds\\n5 baths\\n6 Toilets\\n</td>\n",
       "      <td>5</td>\n",
       "      <td>5</td>\n",
       "      <td>6</td>\n",
       "    </tr>\n",
       "    <tr>\n",
       "      <th>4</th>\n",
       "      <td>2700000</td>\n",
       "      <td>\\n2 beds\\n2 baths\\n3 Toilets\\n</td>\n",
       "      <td>2</td>\n",
       "      <td>2</td>\n",
       "      <td>3</td>\n",
       "    </tr>\n",
       "  </tbody>\n",
       "</table>\n",
       "</div>"
      ],
      "text/plain": [
       "     Price                         Details Beds Baths Toilets\n",
       "0  4000000  \\n4 beds\\n4 baths\\n5 Toilets\\n    4     4       5\n",
       "1  5000000  \\n4 beds\\n4 baths\\n5 Toilets\\n    4     4       5\n",
       "2  7500000  \\n5 beds\\n5 baths\\n6 Toilets\\n    5     5       6\n",
       "3  7000000  \\n5 beds\\n5 baths\\n6 Toilets\\n    5     5       6\n",
       "4  2700000  \\n2 beds\\n2 baths\\n3 Toilets\\n    2     2       3"
      ]
     },
     "execution_count": 743,
     "metadata": {},
     "output_type": "execute_result"
    }
   ],
   "source": [
    "listing.head()"
   ]
  },
  {
   "cell_type": "code",
   "execution_count": 744,
   "id": "1a6e9296",
   "metadata": {},
   "outputs": [],
   "source": [
    "listing=listing.drop(['Details'],axis='columns')"
   ]
  },
  {
   "cell_type": "code",
   "execution_count": 745,
   "id": "eab6f474",
   "metadata": {},
   "outputs": [
    {
     "data": {
      "text/html": [
       "<div>\n",
       "<style scoped>\n",
       "    .dataframe tbody tr th:only-of-type {\n",
       "        vertical-align: middle;\n",
       "    }\n",
       "\n",
       "    .dataframe tbody tr th {\n",
       "        vertical-align: top;\n",
       "    }\n",
       "\n",
       "    .dataframe thead th {\n",
       "        text-align: right;\n",
       "    }\n",
       "</style>\n",
       "<table border=\"1\" class=\"dataframe\">\n",
       "  <thead>\n",
       "    <tr style=\"text-align: right;\">\n",
       "      <th></th>\n",
       "      <th>Price</th>\n",
       "      <th>Beds</th>\n",
       "      <th>Baths</th>\n",
       "      <th>Toilets</th>\n",
       "    </tr>\n",
       "  </thead>\n",
       "  <tbody>\n",
       "    <tr>\n",
       "      <th>0</th>\n",
       "      <td>4000000</td>\n",
       "      <td>4</td>\n",
       "      <td>4</td>\n",
       "      <td>5</td>\n",
       "    </tr>\n",
       "    <tr>\n",
       "      <th>1</th>\n",
       "      <td>5000000</td>\n",
       "      <td>4</td>\n",
       "      <td>4</td>\n",
       "      <td>5</td>\n",
       "    </tr>\n",
       "    <tr>\n",
       "      <th>2</th>\n",
       "      <td>7500000</td>\n",
       "      <td>5</td>\n",
       "      <td>5</td>\n",
       "      <td>6</td>\n",
       "    </tr>\n",
       "    <tr>\n",
       "      <th>3</th>\n",
       "      <td>7000000</td>\n",
       "      <td>5</td>\n",
       "      <td>5</td>\n",
       "      <td>6</td>\n",
       "    </tr>\n",
       "    <tr>\n",
       "      <th>4</th>\n",
       "      <td>2700000</td>\n",
       "      <td>2</td>\n",
       "      <td>2</td>\n",
       "      <td>3</td>\n",
       "    </tr>\n",
       "  </tbody>\n",
       "</table>\n",
       "</div>"
      ],
      "text/plain": [
       "     Price Beds Baths Toilets\n",
       "0  4000000    4     4       5\n",
       "1  5000000    4     4       5\n",
       "2  7500000    5     5       6\n",
       "3  7000000    5     5       6\n",
       "4  2700000    2     2       3"
      ]
     },
     "execution_count": 745,
     "metadata": {},
     "output_type": "execute_result"
    }
   ],
   "source": [
    "listing.head()"
   ]
  },
  {
   "cell_type": "markdown",
   "id": "20663871",
   "metadata": {},
   "source": [
    "Dealing with null values"
   ]
  },
  {
   "cell_type": "code",
   "execution_count": 746,
   "id": "eff1e074",
   "metadata": {
    "scrolled": true
   },
   "outputs": [
    {
     "data": {
      "text/plain": [
       "Price      141\n",
       "Beds       141\n",
       "Baths      141\n",
       "Toilets    141\n",
       "dtype: int64"
      ]
     },
     "execution_count": 746,
     "metadata": {},
     "output_type": "execute_result"
    }
   ],
   "source": [
    "#Checking for null values\n",
    "listing.isnull().sum()"
   ]
  },
  {
   "cell_type": "code",
   "execution_count": 747,
   "id": "fe42270f",
   "metadata": {},
   "outputs": [
    {
     "data": {
      "text/plain": [
       "Price      0\n",
       "Beds       0\n",
       "Baths      0\n",
       "Toilets    0\n",
       "dtype: int64"
      ]
     },
     "execution_count": 747,
     "metadata": {},
     "output_type": "execute_result"
    }
   ],
   "source": [
    "#filling the nulls forward\n",
    "listing=listing.fillna(method='ffill')\n",
    "listing.isnull().sum()"
   ]
  },
  {
   "cell_type": "markdown",
   "id": "2fff73d1",
   "metadata": {},
   "source": [
    "Correcting the data types"
   ]
  },
  {
   "cell_type": "code",
   "execution_count": 748,
   "id": "10db0184",
   "metadata": {},
   "outputs": [
    {
     "data": {
      "text/plain": [
       "4    2423\n",
       "5     449\n",
       "2     307\n",
       "3      29\n",
       "0      18\n",
       "1       6\n",
       "6       5\n",
       "Name: Beds, dtype: Int64"
      ]
     },
     "execution_count": 748,
     "metadata": {},
     "output_type": "execute_result"
    }
   ],
   "source": [
    "listing['Beds']=pd.to_numeric(listing['Beds'], errors='coerce').apply(np.round).astype('Int64')\n",
    "listing['Beds'].value_counts()"
   ]
  },
  {
   "cell_type": "code",
   "execution_count": 749,
   "id": "bf1b2cb1",
   "metadata": {},
   "outputs": [
    {
     "data": {
      "text/plain": [
       "8000000      564\n",
       "4500000      423\n",
       "6000000      423\n",
       "9000000      284\n",
       "5000000      282\n",
       "            ... \n",
       "1500000        1\n",
       "47000000       1\n",
       "800000         1\n",
       "158000000      1\n",
       "43000000       1\n",
       "Name: Price, Length: 79, dtype: Int64"
      ]
     },
     "execution_count": 749,
     "metadata": {},
     "output_type": "execute_result"
    }
   ],
   "source": [
    "listing['Price']=pd.to_numeric(listing['Price'], errors='coerce').apply(np.round).astype('Int64')\n",
    "listing['Price'].value_counts()"
   ]
  },
  {
   "cell_type": "code",
   "execution_count": 750,
   "id": "e1daff1d",
   "metadata": {
    "scrolled": true
   },
   "outputs": [
    {
     "data": {
      "text/plain": [
       "4    2327\n",
       "5     543\n",
       "2     307\n",
       "0      26\n",
       "3      21\n",
       "6       7\n",
       "1       1\n",
       "Name: Baths, dtype: Int64"
      ]
     },
     "execution_count": 750,
     "metadata": {},
     "output_type": "execute_result"
    }
   ],
   "source": [
    "listing['Baths']=pd.to_numeric(listing['Baths'], errors='coerce').apply(np.round).astype('Int64')\n",
    "listing['Baths'].value_counts()"
   ]
  },
  {
   "cell_type": "code",
   "execution_count": 751,
   "id": "97f466bf",
   "metadata": {},
   "outputs": [
    {
     "data": {
      "text/plain": [
       "5    2185\n",
       "6     542\n",
       "3     307\n",
       "4     164\n",
       "0      26\n",
       "2       5\n",
       "7       3\n",
       "Name: Toilets, dtype: Int64"
      ]
     },
     "execution_count": 751,
     "metadata": {},
     "output_type": "execute_result"
    }
   ],
   "source": [
    "listing['Toilets']=pd.to_numeric(listing['Toilets'], errors='coerce').apply(np.round).astype('Int64')\n",
    "listing['Toilets'].value_counts()"
   ]
  },
  {
   "cell_type": "code",
   "execution_count": 752,
   "id": "bd24dba4",
   "metadata": {
    "scrolled": true
   },
   "outputs": [
    {
     "name": "stdout",
     "output_type": "stream",
     "text": [
      "<class 'pandas.core.frame.DataFrame'>\n",
      "RangeIndex: 3243 entries, 0 to 3242\n",
      "Data columns (total 4 columns):\n",
      " #   Column   Non-Null Count  Dtype\n",
      "---  ------   --------------  -----\n",
      " 0   Price    3243 non-null   Int64\n",
      " 1   Beds     3237 non-null   Int64\n",
      " 2   Baths    3232 non-null   Int64\n",
      " 3   Toilets  3232 non-null   Int64\n",
      "dtypes: Int64(4)\n",
      "memory usage: 114.1 KB\n"
     ]
    }
   ],
   "source": [
    "listing.info()"
   ]
  },
  {
   "cell_type": "markdown",
   "id": "5ee125f2",
   "metadata": {},
   "source": [
    "#### Saving the cleaned data in a new file"
   ]
  },
  {
   "cell_type": "code",
   "execution_count": 753,
   "id": "43e399b0",
   "metadata": {},
   "outputs": [],
   "source": [
    "listing.to_csv('Cleaned-listing.csv', index=False, encoding='utf-8')"
   ]
  },
  {
   "cell_type": "markdown",
   "id": "09e3a497",
   "metadata": {},
   "source": [
    "## Exploratory Data Analysis (EDA)"
   ]
  },
  {
   "cell_type": "code",
   "execution_count": 3,
   "id": "5de012a3",
   "metadata": {},
   "outputs": [],
   "source": [
    "listing=pd.read_csv('Cleaned-listing.csv')"
   ]
  },
  {
   "cell_type": "code",
   "execution_count": 4,
   "id": "e021734d",
   "metadata": {},
   "outputs": [
    {
     "data": {
      "text/plain": [
       "Price      0\n",
       "Beds       0\n",
       "Baths      0\n",
       "Toilets    0\n",
       "dtype: int64"
      ]
     },
     "execution_count": 4,
     "metadata": {},
     "output_type": "execute_result"
    }
   ],
   "source": [
    "listing=listing.fillna(method='ffill')\n",
    "listing.isnull().sum()"
   ]
  },
  {
   "cell_type": "code",
   "execution_count": 5,
   "id": "069de58b",
   "metadata": {
    "scrolled": true
   },
   "outputs": [
    {
     "data": {
      "text/html": [
       "<div>\n",
       "<style scoped>\n",
       "    .dataframe tbody tr th:only-of-type {\n",
       "        vertical-align: middle;\n",
       "    }\n",
       "\n",
       "    .dataframe tbody tr th {\n",
       "        vertical-align: top;\n",
       "    }\n",
       "\n",
       "    .dataframe thead th {\n",
       "        text-align: right;\n",
       "    }\n",
       "</style>\n",
       "<table border=\"1\" class=\"dataframe\">\n",
       "  <thead>\n",
       "    <tr style=\"text-align: right;\">\n",
       "      <th></th>\n",
       "      <th>Price</th>\n",
       "      <th>Beds</th>\n",
       "      <th>Baths</th>\n",
       "      <th>Toilets</th>\n",
       "    </tr>\n",
       "  </thead>\n",
       "  <tbody>\n",
       "    <tr>\n",
       "      <th>count</th>\n",
       "      <td>3.243000e+03</td>\n",
       "      <td>3243.00000</td>\n",
       "      <td>3243.000000</td>\n",
       "      <td>3243.000000</td>\n",
       "    </tr>\n",
       "    <tr>\n",
       "      <th>mean</th>\n",
       "      <td>3.184007e+07</td>\n",
       "      <td>3.91551</td>\n",
       "      <td>3.942954</td>\n",
       "      <td>4.884366</td>\n",
       "    </tr>\n",
       "    <tr>\n",
       "      <th>std</th>\n",
       "      <td>3.156811e+08</td>\n",
       "      <td>0.79419</td>\n",
       "      <td>0.830192</td>\n",
       "      <td>0.895123</td>\n",
       "    </tr>\n",
       "    <tr>\n",
       "      <th>min</th>\n",
       "      <td>7.500000e+02</td>\n",
       "      <td>0.00000</td>\n",
       "      <td>0.000000</td>\n",
       "      <td>0.000000</td>\n",
       "    </tr>\n",
       "    <tr>\n",
       "      <th>25%</th>\n",
       "      <td>5.000000e+06</td>\n",
       "      <td>4.00000</td>\n",
       "      <td>4.000000</td>\n",
       "      <td>5.000000</td>\n",
       "    </tr>\n",
       "    <tr>\n",
       "      <th>50%</th>\n",
       "      <td>6.500000e+06</td>\n",
       "      <td>4.00000</td>\n",
       "      <td>4.000000</td>\n",
       "      <td>5.000000</td>\n",
       "    </tr>\n",
       "    <tr>\n",
       "      <th>75%</th>\n",
       "      <td>8.000000e+06</td>\n",
       "      <td>4.00000</td>\n",
       "      <td>4.000000</td>\n",
       "      <td>5.000000</td>\n",
       "    </tr>\n",
       "    <tr>\n",
       "      <th>max</th>\n",
       "      <td>1.200000e+10</td>\n",
       "      <td>6.00000</td>\n",
       "      <td>6.000000</td>\n",
       "      <td>7.000000</td>\n",
       "    </tr>\n",
       "  </tbody>\n",
       "</table>\n",
       "</div>"
      ],
      "text/plain": [
       "              Price        Beds        Baths      Toilets\n",
       "count  3.243000e+03  3243.00000  3243.000000  3243.000000\n",
       "mean   3.184007e+07     3.91551     3.942954     4.884366\n",
       "std    3.156811e+08     0.79419     0.830192     0.895123\n",
       "min    7.500000e+02     0.00000     0.000000     0.000000\n",
       "25%    5.000000e+06     4.00000     4.000000     5.000000\n",
       "50%    6.500000e+06     4.00000     4.000000     5.000000\n",
       "75%    8.000000e+06     4.00000     4.000000     5.000000\n",
       "max    1.200000e+10     6.00000     6.000000     7.000000"
      ]
     },
     "execution_count": 5,
     "metadata": {},
     "output_type": "execute_result"
    }
   ],
   "source": [
    "listing.describe()"
   ]
  },
  {
   "cell_type": "markdown",
   "id": "43d08561",
   "metadata": {},
   "source": [
    "The Mean and Standard Deviation shows the presence of outliers in the Price column\n",
    "\n",
    "#### Dealing With Outliers"
   ]
  },
  {
   "cell_type": "code",
   "execution_count": 6,
   "id": "a452d248",
   "metadata": {
    "scrolled": true
   },
   "outputs": [
    {
     "data": {
      "image/png": "[encoded data removed]",
      "text/plain": [
       "<Figure size 432x288 with 1 Axes>"
      ]
     },
     "metadata": {
      "needs_background": "light"
     },
     "output_type": "display_data"
    }
   ],
   "source": [
    "sns.boxplot(x=listing['Price']);"
   ]
  },
  {
   "cell_type": "markdown",
   "id": "447112d2",
   "metadata": {},
   "source": [
    "The boxplot confirms the presence of outliers"
   ]
  },
  {
   "cell_type": "code",
   "execution_count": 7,
   "id": "53705ee6",
   "metadata": {},
   "outputs": [],
   "source": [
    "Q1 = Q3 = np.percentile(listing['Price'], 75, interpolation = 'midpoint')\n",
    "Q3 = np.percentile(listing['Price'], 75, interpolation = 'midpoint')\n",
    "IQR = Q3-Q1"
   ]
  },
  {
   "cell_type": "code",
   "execution_count": 8,
   "id": "954afed3",
   "metadata": {},
   "outputs": [],
   "source": [
    "lower_bound= np.where(listing['Price']  <= (Q1 - 1.5 * IQR))\n",
    "upper_bound= np.where(listing['Price'] >= (Q3 + 1.5 * IQR))"
   ]
  },
  {
   "cell_type": "code",
   "execution_count": 9,
   "id": "af9c0f46",
   "metadata": {},
   "outputs": [],
   "source": [
    "upper = np.where(listing['Price'] > 9000000)\n",
    "lower = np.where(listing['Price'] < 2000000)"
   ]
  },
  {
   "cell_type": "code",
   "execution_count": 10,
   "id": "4d14522e",
   "metadata": {},
   "outputs": [],
   "source": [
    "listing = listing.drop(upper[0])\n",
    "listing = listing.drop(lower[0])"
   ]
  },
  {
   "cell_type": "code",
   "execution_count": 11,
   "id": "7be5406f",
   "metadata": {
    "scrolled": true
   },
   "outputs": [
    {
     "data": {
      "text/plain": [
       "(3113, 4)"
      ]
     },
     "execution_count": 11,
     "metadata": {},
     "output_type": "execute_result"
    }
   ],
   "source": [
    "listing.shape"
   ]
  },
  {
   "cell_type": "code",
   "execution_count": 12,
   "id": "53b6bf93",
   "metadata": {},
   "outputs": [
    {
     "data": {
      "image/png": "[encoded data removed]",
      "text/plain": [
       "<Figure size 432x288 with 1 Axes>"
      ]
     },
     "metadata": {
      "needs_background": "light"
     },
     "output_type": "display_data"
    }
   ],
   "source": [
    "sns.boxplot(x=listing['Price']);"
   ]
  },
  {
   "cell_type": "code",
   "execution_count": 13,
   "id": "0662cc43",
   "metadata": {},
   "outputs": [
    {
     "data": {
      "text/html": [
       "<div>\n",
       "<style scoped>\n",
       "    .dataframe tbody tr th:only-of-type {\n",
       "        vertical-align: middle;\n",
       "    }\n",
       "\n",
       "    .dataframe tbody tr th {\n",
       "        vertical-align: top;\n",
       "    }\n",
       "\n",
       "    .dataframe thead th {\n",
       "        text-align: right;\n",
       "    }\n",
       "</style>\n",
       "<table border=\"1\" class=\"dataframe\">\n",
       "  <thead>\n",
       "    <tr style=\"text-align: right;\">\n",
       "      <th></th>\n",
       "      <th>Price</th>\n",
       "      <th>Beds</th>\n",
       "      <th>Baths</th>\n",
       "      <th>Toilets</th>\n",
       "    </tr>\n",
       "  </thead>\n",
       "  <tbody>\n",
       "    <tr>\n",
       "      <th>Price</th>\n",
       "      <td>1.000000</td>\n",
       "      <td>0.480090</td>\n",
       "      <td>0.428837</td>\n",
       "      <td>0.321045</td>\n",
       "    </tr>\n",
       "    <tr>\n",
       "      <th>Beds</th>\n",
       "      <td>0.480090</td>\n",
       "      <td>1.000000</td>\n",
       "      <td>0.972214</td>\n",
       "      <td>0.933806</td>\n",
       "    </tr>\n",
       "    <tr>\n",
       "      <th>Baths</th>\n",
       "      <td>0.428837</td>\n",
       "      <td>0.972214</td>\n",
       "      <td>1.000000</td>\n",
       "      <td>0.962310</td>\n",
       "    </tr>\n",
       "    <tr>\n",
       "      <th>Toilets</th>\n",
       "      <td>0.321045</td>\n",
       "      <td>0.933806</td>\n",
       "      <td>0.962310</td>\n",
       "      <td>1.000000</td>\n",
       "    </tr>\n",
       "  </tbody>\n",
       "</table>\n",
       "</div>"
      ],
      "text/plain": [
       "            Price      Beds     Baths   Toilets\n",
       "Price    1.000000  0.480090  0.428837  0.321045\n",
       "Beds     0.480090  1.000000  0.972214  0.933806\n",
       "Baths    0.428837  0.972214  1.000000  0.962310\n",
       "Toilets  0.321045  0.933806  0.962310  1.000000"
      ]
     },
     "execution_count": 13,
     "metadata": {},
     "output_type": "execute_result"
    }
   ],
   "source": [
    "listing.corr()"
   ]
  },
  {
   "cell_type": "code",
   "execution_count": 14,
   "id": "667858a0",
   "metadata": {
    "scrolled": true
   },
   "outputs": [
    {
     "data": {
      "image/png": "[encoded data removed]",
      "text/plain": [
       "<Figure size 432x288 with 2 Axes>"
      ]
     },
     "metadata": {
      "needs_background": "light"
     },
     "output_type": "display_data"
    }
   ],
   "source": [
    "sns.heatmap(listing.corr(), annot = True);"
   ]
  },
  {
   "cell_type": "code",
   "execution_count": 15,
   "id": "e66367d6",
   "metadata": {},
   "outputs": [
    {
     "data": {
      "image/png": "[encoded data removed]",
      "text/plain": [
       "<Figure size 720x720 with 20 Axes>"
      ]
     },
     "metadata": {
      "needs_background": "light"
     },
     "output_type": "display_data"
    }
   ],
   "source": [
    "sns.pairplot(listing);"
   ]
  },
  {
   "cell_type": "markdown",
   "id": "5a89930a",
   "metadata": {},
   "source": [
    "#### Test Train Split"
   ]
  },
  {
   "cell_type": "code",
   "execution_count": 16,
   "id": "e8393c59",
   "metadata": {},
   "outputs": [],
   "source": [
    "Y = listing.Price\n",
    "X = listing.drop(columns=['Price'])"
   ]
  },
  {
   "cell_type": "code",
   "execution_count": 17,
   "id": "0c8a553b",
   "metadata": {},
   "outputs": [],
   "source": [
    "X_train, X_test, Y_train, Y_test = train_test_split(X, Y, test_size=0.3, random_state=99)"
   ]
  },
  {
   "cell_type": "code",
   "execution_count": 26,
   "id": "3e50389c",
   "metadata": {},
   "outputs": [
    {
     "data": {
      "text/html": [
       "<style>#sk-container-id-4 {color: black;background-color: white;}#sk-container-id-4 pre{padding: 0;}#sk-container-id-4 div.sk-toggleable {background-color: white;}#sk-container-id-4 label.sk-toggleable__label {cursor: pointer;display: block;width: 100%;margin-bottom: 0;padding: 0.3em;box-sizing: border-box;text-align: center;}#sk-container-id-4 label.sk-toggleable__label-arrow:before {content: \"▸\";float: left;margin-right: 0.25em;color: #696969;}#sk-container-id-4 label.sk-toggleable__label-arrow:hover:before {color: black;}#sk-container-id-4 div.sk-estimator:hover label.sk-toggleable__label-arrow:before {color: black;}#sk-container-id-4 div.sk-toggleable__content {max-height: 0;max-width: 0;overflow: hidden;text-align: left;background-color: #f0f8ff;}#sk-container-id-4 div.sk-toggleable__content pre {margin: 0.2em;color: black;border-radius: 0.25em;background-color: #f0f8ff;}#sk-container-id-4 input.sk-toggleable__control:checked~div.sk-toggleable__content {max-height: 200px;max-width: 100%;overflow: auto;}#sk-container-id-4 input.sk-toggleable__control:checked~label.sk-toggleable__label-arrow:before {content: \"▾\";}#sk-container-id-4 div.sk-estimator input.sk-toggleable__control:checked~label.sk-toggleable__label {background-color: #d4ebff;}#sk-container-id-4 div.sk-label input.sk-toggleable__control:checked~label.sk-toggleable__label {background-color: #d4ebff;}#sk-container-id-4 input.sk-hidden--visually {border: 0;clip: rect(1px 1px 1px 1px);clip: rect(1px, 1px, 1px, 1px);height: 1px;margin: -1px;overflow: hidden;padding: 0;position: absolute;width: 1px;}#sk-container-id-4 div.sk-estimator {font-family: monospace;background-color: #f0f8ff;border: 1px dotted black;border-radius: 0.25em;box-sizing: border-box;margin-bottom: 0.5em;}#sk-container-id-4 div.sk-estimator:hover {background-color: #d4ebff;}#sk-container-id-4 div.sk-parallel-item::after {content: \"\";width: 100%;border-bottom: 1px solid gray;flex-grow: 1;}#sk-container-id-4 div.sk-label:hover label.sk-toggleable__label {background-color: #d4ebff;}#sk-container-id-4 div.sk-serial::before {content: \"\";position: absolute;border-left: 1px solid gray;box-sizing: border-box;top: 0;bottom: 0;left: 50%;z-index: 0;}#sk-container-id-4 div.sk-serial {display: flex;flex-direction: column;align-items: center;background-color: white;padding-right: 0.2em;padding-left: 0.2em;position: relative;}#sk-container-id-4 div.sk-item {position: relative;z-index: 1;}#sk-container-id-4 div.sk-parallel {display: flex;align-items: stretch;justify-content: center;background-color: white;position: relative;}#sk-container-id-4 div.sk-item::before, #sk-container-id-4 div.sk-parallel-item::before {content: \"\";position: absolute;border-left: 1px solid gray;box-sizing: border-box;top: 0;bottom: 0;left: 50%;z-index: -1;}#sk-container-id-4 div.sk-parallel-item {display: flex;flex-direction: column;z-index: 1;position: relative;background-color: white;}#sk-container-id-4 div.sk-parallel-item:first-child::after {align-self: flex-end;width: 50%;}#sk-container-id-4 div.sk-parallel-item:last-child::after {align-self: flex-start;width: 50%;}#sk-container-id-4 div.sk-parallel-item:only-child::after {width: 0;}#sk-container-id-4 div.sk-dashed-wrapped {border: 1px dashed gray;margin: 0 0.4em 0.5em 0.4em;box-sizing: border-box;padding-bottom: 0.4em;background-color: white;}#sk-container-id-4 div.sk-label label {font-family: monospace;font-weight: bold;display: inline-block;line-height: 1.2em;}#sk-container-id-4 div.sk-label-container {text-align: center;}#sk-container-id-4 div.sk-container {/* jupyter's `normalize.less` sets `[hidden] { display: none; }` but bootstrap.min.css set `[hidden] { display: none !important; }` so we also need the `!important` here to be able to override the default hidden behavior on the sphinx rendered scikit-learn.org. See: https://github.com/scikit-learn/scikit-learn/issues/21755 */display: inline-block !important;position: relative;}#sk-container-id-4 div.sk-text-repr-fallback {display: none;}</style><div id=\"sk-container-id-4\" class=\"sk-top-container\"><div class=\"sk-text-repr-fallback\"><pre>LinearRegression()</pre><b>In a Jupyter environment, please rerun this cell to show the HTML representation or trust the notebook. <br />On GitHub, the HTML representation is unable to render, please try loading this page with nbviewer.org.</b></div><div class=\"sk-container\" hidden><div class=\"sk-item\"><div class=\"sk-estimator sk-toggleable\"><input class=\"sk-toggleable__control sk-hidden--visually\" id=\"sk-estimator-id-4\" type=\"checkbox\" checked><label for=\"sk-estimator-id-4\" class=\"sk-toggleable__label sk-toggleable__label-arrow\">LinearRegression</label><div class=\"sk-toggleable__content\"><pre>LinearRegression()</pre></div></div></div></div></div>"
      ],
      "text/plain": [
       "LinearRegression()"
      ]
     },
     "execution_count": 26,
     "metadata": {},
     "output_type": "execute_result"
    }
   ],
   "source": [
    "model = LinearRegression()  \n",
    "model.fit(X_train, Y_train)"
   ]
  },
  {
   "cell_type": "code",
   "execution_count": 27,
   "id": "9548328f",
   "metadata": {},
   "outputs": [],
   "source": [
    "y_pred = model.predict(X_test)"
   ]
  },
  {
   "cell_type": "code",
   "execution_count": 21,
   "id": "0f5c9516",
   "metadata": {
    "scrolled": true
   },
   "outputs": [
    {
     "name": "stdout",
     "output_type": "stream",
     "text": [
      "mean_squared_error is== 1874407954946.1934\n",
      "root_mean_squared error of is== 1369090.1924074225\n"
     ]
    }
   ],
   "source": [
    "from sklearn.metrics import mean_squared_error\n",
    "print('mean_squared_error is==',mean_squared_error(Y_test,y_pred))\n",
    "print('root_mean_squared error of is==',np.sqrt(mean_squared_error(Y_test,y_pred)))"
   ]
  },
  {
   "cell_type": "code",
   "execution_count": 28,
   "id": "4c10aee0",
   "metadata": {},
   "outputs": [],
   "source": [
    "pickle.dump(model,open('model.pkl','wb'))"
   ]
  },
  {
   "cell_type": "code",
   "execution_count": 30,
   "id": "d462992d",
   "metadata": {},
   "outputs": [
    {
     "name": "stdout",
     "output_type": "stream",
     "text": [
      "[10209832.62771654]\n"
     ]
    }
   ],
   "source": [
    "print(model.predict([[5,5,5]]))"
   ]
  },
  {
   "cell_type": "code",
   "execution_count": null,
   "id": "9a73caae",
   "metadata": {},
   "outputs": [],
   "source": []
  }
 ],
 "metadata": {
  "kernelspec": {
   "display_name": "Python 3 (ipykernel)",
   "language": "python",
   "name": "python3"
  },
  "language_info": {
   "codemirror_mode": {
    "name": "ipython",
    "version": 3
   },
   "file_extension": ".py",
   "mimetype": "text/x-python",
   "name": "python",
   "nbconvert_exporter": "python",
   "pygments_lexer": "ipython3",
   "version": "3.9.7"
  }
 },
 "nbformat": 4,
 "nbformat_minor": 5
}
